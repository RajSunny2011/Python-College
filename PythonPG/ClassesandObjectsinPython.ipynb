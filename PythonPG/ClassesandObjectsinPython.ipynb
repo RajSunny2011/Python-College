{
 "cells": [
  {
   "cell_type": "markdown",
   "id": "be014890",
   "metadata": {},
   "source": [
    "# Classes and Objects in Python\n",
    "\n",
    "Python is an object-oriented programming language that offers classes, which are a potent tool for writing reusable code. To describe objects with shared characteristics and behaviours, classes are utilised. We shall examine Python's ideas of classes and objects in this article.\n",
    "\n",
    "__Classes in Python:__\n",
    "\n",
    "In Python, a class is a user-defined data type that contains both the data itself and the methods that may be used to manipulate it. In a sense, classes serve as a template to create objects. They provide the characteristics and operations that the objects will employ.\n",
    "\n",
    "Suppose a class is a prototype of a building. A building contains all the details about the floor, rooms, doors, windows, etc. we can make as many buildings as we want, based on these details. Hence, the building can be seen as a class, and we can create as many objects of this class.\n",
    "\n",
    "__Creating Classes in Python__\n",
    "\n",
    "In Python, a class can be created by using the keyword class, followed by the class name. The syntax to create a class is given below.\n",
    "\n",
    "Syntax\n",
    "\n",
    "class ClassName:    \n",
    "    #statement_suite  \n",
    "    \n",
    "    \n",
    "In Python, we must notice that each class is associated with a documentation string which can be accessed by using <class-name>.__doc__. A class contains a statement suite including fields, constructor, function, etc. definition.    \n",
    "    \n",
    "\n"
   ]
  },
  {
   "cell_type": "code",
   "execution_count": 2,
   "id": "3b015433",
   "metadata": {},
   "outputs": [],
   "source": [
    "class Person:  \n",
    "    def __init__(self, name, age):  \n",
    "        # This is the constructor method that is called when creating a new Person object  \n",
    "        # It takes two parameters, name and age, and initializes them as attributes of the object  \n",
    "        self.name = name  \n",
    "        self.age = age  \n",
    "    def greet(self):  \n",
    "        # This is a method of the Person class that prints a greeting message  \n",
    "        print(\"Hello, my name is \" + self.name)  "
   ]
  },
  {
   "cell_type": "markdown",
   "id": "f52092ca",
   "metadata": {},
   "source": [
    "Name and age are the two properties of the Person class. Additionally, it has a function called greet that prints a greeting.\n",
    "\n",
    "__Objects in Python:__\n",
    "\n",
    "An object is a particular instance of a class with unique characteristics and functions. After a class has been established, you may make objects based on it. By using the class constructor, you may create an object of a class in Python. The object's attributes are initialised in the constructor, which is a special procedure with the name __init__.\n",
    "\n",
    "Syntax:\n",
    "\n",
    "#Declare an object of a class  \n",
    "object_name = Class_Name(arguments)   "
   ]
  },
  {
   "cell_type": "code",
   "execution_count": 3,
   "id": "34d26c47",
   "metadata": {},
   "outputs": [
    {
     "name": "stdout",
     "output_type": "stream",
     "text": [
      "Hello, my name is Ayan\n"
     ]
    }
   ],
   "source": [
    "class Person:  \n",
    "    def __init__(self, name, age):  \n",
    "        self.name = name    \n",
    "        self.age = age      \n",
    "    def greet(self):  \n",
    "        print(\"Hello, my name is \" + self.name)  \n",
    "  \n",
    "# Create a new instance of the Person class and assign it to the variable person1  \n",
    "person1 = Person(\"Ayan\", 25)  \n",
    "person1.greet()    "
   ]
  },
  {
   "cell_type": "markdown",
   "id": "b220af3f",
   "metadata": {},
   "source": [
    "__The self-parameter__\n",
    "\n",
    "The self-parameter refers to the current instance of the class and accesses the class variables. We can use anything instead of self, but it must be the first parameter of any function which belongs to the class.\n",
    "\n",
    "_ _init_ _ method\n",
    "\n",
    "In order to make an instance of a class in Python, a specific function called __init__ is called. Although it is used to set the object's attributes, it is often referred to as a constructor.\n",
    "\n",
    "The self-argument is the only one required by the __init__ method. This argument refers to the newly generated instance of the class. To initialise the values of each attribute associated with the objects, you can declare extra arguments in the __init__ method.\n",
    "\n",
    "__Class and Instance Variables__\n",
    "\n",
    "All instances of a class exchange class variables. They function independently of any class methods and may be accessed through the use of the class name. Here's an illustration:"
   ]
  },
  {
   "cell_type": "code",
   "execution_count": 4,
   "id": "842a6edb",
   "metadata": {},
   "outputs": [
    {
     "name": "stdout",
     "output_type": "stream",
     "text": [
      "2\n"
     ]
    }
   ],
   "source": [
    "class Person:  \n",
    "    count = 0   # This is a class variable  \n",
    "  \n",
    "    def __init__(self, name, age):  \n",
    "        self.name = name    # This is an instance variable  \n",
    "        self.age = age  \n",
    "        Person.count += 1   # Accessing the class variable using the name of the class  \n",
    "person1 = Person(\"Ayan\", 25)  \n",
    "person2 = Person(\"Bobby\", 30)  \n",
    "print(Person.count)    "
   ]
  },
  {
   "cell_type": "markdown",
   "id": "74aec472",
   "metadata": {},
   "source": [
    "Whereas, instance variables are specific to each instance of a class. They are specified using the self-argument in the __init__ method. Here's an illustration:"
   ]
  },
  {
   "cell_type": "code",
   "execution_count": 5,
   "id": "05a4dc6e",
   "metadata": {},
   "outputs": [
    {
     "name": "stdout",
     "output_type": "stream",
     "text": [
      "Ayan\n",
      "30\n"
     ]
    }
   ],
   "source": [
    "class Person:  \n",
    "    def __init__(self, name, age):  \n",
    "        self.name = name    # This is an instance variable  \n",
    "        self.age = age  \n",
    "person1 = Person(\"Ayan\", 25)  \n",
    "person2 = Person(\"Bobby\", 30)  \n",
    "print(person1.name)    \n",
    "print(person2.age)     "
   ]
  },
  {
   "cell_type": "markdown",
   "id": "060d545b",
   "metadata": {},
   "source": [
    "Class variables are created separately from any class methods and are shared by all class copies. Every instance of a class has its own instance variables, which are specified in the __init__ method utilising the self-argument."
   ]
  },
  {
   "cell_type": "markdown",
   "id": "895c5efa",
   "metadata": {},
   "source": [
    "__Conclusion:__\n",
    "\n",
    "In conclusion, Python's classes and objects notions are strong ideas that let you write reusable programmes. You may combine information and capabilities into a single entity that is able to be used to build many objects by establishing a class. Using the dot notation, you may access an object's methods and properties after it has been created. You can develop more logical, effective, and manageable code by comprehending Python's classes and objects."
   ]
  },
  {
   "cell_type": "code",
   "execution_count": null,
   "id": "21daf7ce",
   "metadata": {},
   "outputs": [],
   "source": []
  }
 ],
 "metadata": {
  "kernelspec": {
   "display_name": "Python 3 (ipykernel)",
   "language": "python",
   "name": "python3"
  },
  "language_info": {
   "codemirror_mode": {
    "name": "ipython",
    "version": 3
   },
   "file_extension": ".py",
   "mimetype": "text/x-python",
   "name": "python",
   "nbconvert_exporter": "python",
   "pygments_lexer": "ipython3",
   "version": "3.9.7"
  }
 },
 "nbformat": 4,
 "nbformat_minor": 5
}
