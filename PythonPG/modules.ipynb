{
 "cells": [
  {
   "cell_type": "code",
   "execution_count": 2,
   "id": "28af802b",
   "metadata": {},
   "outputs": [
    {
     "name": "stdout",
     "output_type": "stream",
     "text": [
      "-1\n"
     ]
    }
   ],
   "source": [
    "# A simple module, calc.py\n",
    "def add(x, y):\n",
    "\treturn (x+y)\n",
    "\n",
    "def subtract(x, y):\n",
    "\treturn (x-y)\n",
    "\n",
    "print(subtract(2,3))"
   ]
  },
  {
   "cell_type": "code",
   "execution_count": 1,
   "id": "4107446d",
   "metadata": {},
   "outputs": [
    {
     "name": "stdout",
     "output_type": "stream",
     "text": [
      "The value of euler's number is  2.718281828459045\n"
     ]
    }
   ],
   "source": [
    "import math\n",
    "print(\"The value of euler's number is \", math.e)"
   ]
  },
  {
   "cell_type": "code",
   "execution_count": 3,
   "id": "163aa202",
   "metadata": {},
   "outputs": [
    {
     "name": "stdout",
     "output_type": "stream",
     "text": [
      "The value of euler's number is  2.718281828459045\n"
     ]
    }
   ],
   "source": [
    "import math as mt\n",
    "print(\"The value of euler's number is \", mt.e)"
   ]
  },
  {
   "cell_type": "code",
   "execution_count": 4,
   "id": "c00006eb",
   "metadata": {},
   "outputs": [
    {
     "name": "stdout",
     "output_type": "stream",
     "text": [
      "4.0\n",
      "720\n"
     ]
    }
   ],
   "source": [
    "# importing sqrt() and factorial from the\n",
    "# module math\n",
    "from math import sqrt, factorial\n",
    "\n",
    "# if we simply do \"import math\", then\n",
    "# math.sqrt(16) and math.factorial()\n",
    "# are required.\n",
    "print(sqrt(16))\n",
    "print(factorial(6))\n",
    "\n"
   ]
  },
  {
   "cell_type": "code",
   "execution_count": 4,
   "id": "39f4f82e",
   "metadata": {},
   "outputs": [
    {
     "name": "stdout",
     "output_type": "stream",
     "text": [
      "4.0\n",
      "720\n"
     ]
    }
   ],
   "source": [
    "# importing sqrt() and factorial from the\n",
    "# module math\n",
    "from math import *\n",
    "\n",
    "# if we simply do \"import math\", then\n",
    "# math.sqrt(16) and math.factorial()\n",
    "# are required.\n",
    "print(sqrt(16))\n",
    "print(factorial(6))\n"
   ]
  },
  {
   "cell_type": "code",
   "execution_count": 5,
   "id": "6ceea603",
   "metadata": {},
   "outputs": [
    {
     "name": "stdout",
     "output_type": "stream",
     "text": [
      "['C:\\\\Users\\\\shivv\\\\Downloads\\\\pregrad', 'D:\\\\shivv\\\\Documents\\\\python39.zip', 'D:\\\\shivv\\\\Documents\\\\DLLs', 'D:\\\\shivv\\\\Documents\\\\lib', 'D:\\\\shivv\\\\Documents', '', 'D:\\\\shivv\\\\Documents\\\\lib\\\\site-packages', 'D:\\\\shivv\\\\Documents\\\\lib\\\\site-packages\\\\locket-0.2.1-py3.9.egg', 'D:\\\\shivv\\\\Documents\\\\lib\\\\site-packages\\\\win32', 'D:\\\\shivv\\\\Documents\\\\lib\\\\site-packages\\\\win32\\\\lib', 'D:\\\\shivv\\\\Documents\\\\lib\\\\site-packages\\\\Pythonwin', 'D:\\\\shivv\\\\Documents\\\\lib\\\\site-packages\\\\IPython\\\\extensions', 'C:\\\\Users\\\\shivv\\\\.ipython']\n"
     ]
    }
   ],
   "source": [
    "# importing sys module\n",
    "import sys\n",
    "\n",
    "# importing sys.path\n",
    "print(sys.path)\n"
   ]
  },
  {
   "cell_type": "code",
   "execution_count": 5,
   "id": "e107e304",
   "metadata": {},
   "outputs": [
    {
     "name": "stdout",
     "output_type": "stream",
     "text": [
      "list of functions:\n",
      " ['__add__', '__class__', '__contains__', '__delattr__', '__dir__', '__doc__', '__eq__', '__format__', '__ge__', '__getattribute__', '__getitem__', '__getnewargs__', '__gt__', '__hash__', '__init__', '__init_subclass__', '__iter__', '__le__', '__len__', '__lt__', '__mod__', '__mul__', '__ne__', '__new__', '__reduce__', '__reduce_ex__', '__repr__', '__rmod__', '__rmul__', '__setattr__', '__sizeof__', '__str__', '__subclasshook__', 'capitalize', 'casefold', 'center', 'count', 'encode', 'endswith', 'expandtabs', 'find', 'format', 'format_map', 'index', 'isalnum', 'isalpha', 'isascii', 'isdecimal', 'isdigit', 'isidentifier', 'islower', 'isnumeric', 'isprintable', 'isspace', 'istitle', 'isupper', 'join', 'ljust', 'lower', 'lstrip', 'maketrans', 'partition', 'removeprefix', 'removesuffix', 'replace', 'rfind', 'rindex', 'rjust', 'rpartition', 'rsplit', 'rstrip', 'split', 'splitlines', 'startswith', 'strip', 'swapcase', 'title', 'translate', 'upper', 'zfill'],"
     ]
    }
   ],
   "source": [
    "print(\"list of functions:\\n\", dir(str), end=\",\")"
   ]
  },
  {
   "cell_type": "code",
   "execution_count": 9,
   "id": "20f2ca02",
   "metadata": {},
   "outputs": [
    {
     "name": "stdout",
     "output_type": "stream",
     "text": [
      "the number is  100\n",
      "the number is 200\n"
     ]
    }
   ],
   "source": [
    "Number = 100\n",
    "\n",
    "def AddNumber():\n",
    "    global Number\n",
    "    Number = Number + 100\n",
    "print(\"the number is \", Number)\n",
    "    \n",
    "AddNumber()    \n",
    "print(\"the number is\", Number)"
   ]
  },
  {
   "cell_type": "code",
   "execution_count": 6,
   "id": "e50122a8",
   "metadata": {},
   "outputs": [
    {
     "name": "stdout",
     "output_type": "stream",
     "text": [
      "4.0\n",
      "720\n"
     ]
    }
   ],
   "source": [
    "# importing sqrt() and factorial from the\n",
    "# module math\n",
    "import math as mt\n",
    "\n",
    "# if we simply do \"import math\", then\n",
    "# math.sqrt(16) and math.factorial()\n",
    "# are required.\n",
    "print(mt.sqrt(16))\n",
    "print(mt.factorial(6))\n"
   ]
  },
  {
   "cell_type": "code",
   "execution_count": 2,
   "id": "9cf36462",
   "metadata": {},
   "outputs": [
    {
     "name": "stdout",
     "output_type": "stream",
     "text": [
      "5.0\n",
      "3.141592653589793\n",
      "114.59155902616465\n",
      "1.0471975511965976\n",
      "0.9092974268256817\n",
      "0.8775825618903728\n",
      "0.23414336235146527\n",
      "24\n",
      "2\n",
      "0.3049276867862122\n",
      "26.969523676702558\n",
      "1\n",
      "1702134592.8722415\n",
      "1970-04-14\n"
     ]
    }
   ],
   "source": [
    "# importing built-in module math\n",
    "import math\n",
    "\n",
    "# using square root(sqrt) function contained\n",
    "# in math module\n",
    "print(math.sqrt(25))\n",
    "\n",
    "# using pi function contained in math module\n",
    "print(math.pi)\n",
    "\n",
    "# 2 radians = 114.59 degrees\n",
    "print(math.degrees(2))\n",
    "\n",
    "# 60 degrees = 1.04 radians\n",
    "print(math.radians(60))\n",
    "\n",
    "# Sine of 2 radians\n",
    "print(math.sin(2))\n",
    "\n",
    "# Cosine of 0.5 radians\n",
    "print(math.cos(0.5))\n",
    "\n",
    "# Tangent of 0.23 radians\n",
    "print(math.tan(0.23))\n",
    "\n",
    "# 1 * 2 * 3 * 4 = 24\n",
    "print(math.factorial(4))\n",
    "\n",
    "# importing built in module random\n",
    "import random \n",
    "\n",
    "# printing random integer between 0 and 5\n",
    "print(random.randint(0, 5))\n",
    "\n",
    "# print random floating point number between 0 and 1\n",
    "print(random.random())\n",
    "\n",
    "# random number between 0 and 100\n",
    "print(random.random() * 100)\n",
    "\n",
    "List = [1, 4, True, 800, \"python\", 27, \"hello\"]\n",
    "\n",
    "# using choice function in random module for choosing\n",
    "# a random element from a set such as a list\n",
    "print(random.choice(List))\n",
    "\n",
    "\n",
    "# importing built in module datetime\n",
    "import datetime\n",
    "from datetime import date\n",
    "import time\n",
    "\n",
    "# Returns the number of seconds since the\n",
    "# Unix Epoch, January 1st 1970\n",
    "print(time.time())\n",
    "\n",
    "# Converts a number of seconds to a date object\n",
    "print(date.fromtimestamp(8888799))\n"
   ]
  },
  {
   "cell_type": "code",
   "execution_count": null,
   "id": "0ce8d88c",
   "metadata": {},
   "outputs": [],
   "source": []
  }
 ],
 "metadata": {
  "kernelspec": {
   "display_name": "Python 3 (ipykernel)",
   "language": "python",
   "name": "python3"
  },
  "language_info": {
   "codemirror_mode": {
    "name": "ipython",
    "version": 3
   },
   "file_extension": ".py",
   "mimetype": "text/x-python",
   "name": "python",
   "nbconvert_exporter": "python",
   "pygments_lexer": "ipython3",
   "version": "3.9.7"
  }
 },
 "nbformat": 4,
 "nbformat_minor": 5
}
