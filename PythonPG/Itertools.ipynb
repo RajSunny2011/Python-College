{
 "cells": [
  {
   "cell_type": "markdown",
   "id": "937cb290",
   "metadata": {},
   "source": [
    "# Python Itertools\n",
    "\n",
    "Itertool is one of the most amazing Python 3 standard libraries. This library has pretty much coolest functions and nothing wrong to say that it is the gem of the Python programing language. Python provides excellent documentation of the itertools but in this tutorial, we will discuss few important and useful functions or iterators of itertools.\n",
    "\n",
    "The key thing about itertools is that the functions of this library are used to make memory-efficient and precise code.\n",
    "\n",
    "Before learning the Python itertools, you should have knowledge of the Python iterator and generators. In this article, we will describe itertools for beginners are well as for professionals.\n",
    "\n",
    "__Introduction__\n",
    "\n",
    "According to the official definition of itertools, \"this module implements a number of iterator building blocks inspired by constructs from APL, Haskell, and SML.\" In simple words, the number of iterators can together create 'iterator algebra' which makes it possible to complete the complex task. The functions in itertools are used to produce more complex iterators. Let's take an example: Python built-in zip() function accepts any number of arguments as iterable. It iterates over tuples and return their corresponding elements.\n",
    "\n"
   ]
  },
  {
   "cell_type": "code",
   "execution_count": 2,
   "id": "7adb38af",
   "metadata": {},
   "outputs": [
    {
     "name": "stdout",
     "output_type": "stream",
     "text": [
      "[(1, 'a'), (2, 'b'), (3, 'c')]\n"
     ]
    }
   ],
   "source": [
    "a = [1,2,3]  \n",
    "b= ['a', 'b', 'c']  \n",
    "c = zip(a,b)  \n",
    "print(list(c))  "
   ]
  },
  {
   "cell_type": "markdown",
   "id": "39489a7f",
   "metadata": {},
   "source": [
    "In the above code, we have passed two lists [1,2,3] and ['a', 'b', 'c'] as iterable in zip() function. These lists return one element at a time. In Python, an element that implement .__iter__() or .__getitem__() method called iterable.\n",
    "\n",
    "The Python iter() function is used to call on the iterable and return iterator object of the iterable."
   ]
  },
  {
   "cell_type": "code",
   "execution_count": 1,
   "id": "03b974f7",
   "metadata": {},
   "outputs": [
    {
     "name": "stdout",
     "output_type": "stream",
     "text": [
      "<str_iterator object at 0x0000020BB8FAC250>\n"
     ]
    }
   ],
   "source": [
    "a = iter('Hello')  \n",
    "print(a)"
   ]
  },
  {
   "cell_type": "markdown",
   "id": "7585b4dc",
   "metadata": {},
   "source": [
    "The Python zip() function calls iter() on each of its argument and then calls next() by combining the result into tuple."
   ]
  },
  {
   "cell_type": "markdown",
   "id": "d51f6f81",
   "metadata": {},
   "source": [
    "__Types of Iterator__\n",
    "\n",
    "There are various types of iterator in itertools module. The list is given below:\n",
    "\n",
    "Infinite iterators\n",
    "\n",
    "Combinatoric iterators\n",
    "\n",
    "Terminating iterators\n",
    "\n",
    "__Infinite Iterators__\n",
    "\n",
    "In Python, any object that can implement for loop is called iterators. Lists, tuples, set, dictionaries, strings are the example of iterators but iterator can also be infinite and this type of iterator is called infinite iterator."
   ]
  },
  {
   "cell_type": "markdown",
   "id": "32ac10ac",
   "metadata": {},
   "source": [
    "__count(start, stop):__\n",
    "\n",
    "It prints from the start value to infinite. The step argument is optional, if the value is provided to the step then the number of steps will be skipped. Consider the following example:"
   ]
  },
  {
   "cell_type": "code",
   "execution_count": 2,
   "id": "462a6ae8",
   "metadata": {},
   "outputs": [
    {
     "name": "stdout",
     "output_type": "stream",
     "text": [
      "10 15 20 25 30 35 40 45 "
     ]
    }
   ],
   "source": [
    "import itertools  \n",
    "  \n",
    "for i in itertools.count(10,5):  \n",
    "    if i == 50:  \n",
    "        break  \n",
    "    else:  \n",
    "        print(i,end=\" \")  "
   ]
  },
  {
   "cell_type": "markdown",
   "id": "76fa5fe6",
   "metadata": {},
   "source": [
    "__cycle(iterable):__\n",
    "\n",
    "This iterator prints all value in sequence from the passed argument. It prints the values in a cyclic manner. Consider the following example:"
   ]
  },
  {
   "cell_type": "code",
   "execution_count": 4,
   "id": "7ccc6225",
   "metadata": {},
   "outputs": [
    {
     "name": "stdout",
     "output_type": "stream",
     "text": [
      "1 2 3 1 2 3 1 2 "
     ]
    }
   ],
   "source": [
    "import itertools  \n",
    "temp = 0  \n",
    "for i in itertools.cycle(\"123\"):  \n",
    "    if temp > 7:  \n",
    "        break  \n",
    "    else:  \n",
    "        print(i,end=' ')  \n",
    "        temp = temp+1  "
   ]
  },
  {
   "cell_type": "code",
   "execution_count": 6,
   "id": "dee58191",
   "metadata": {},
   "outputs": [
    {
     "name": "stdout",
     "output_type": "stream",
     "text": [
      "Shiv angi Shiv angi Shiv angi "
     ]
    }
   ],
   "source": [
    "import itertools  \n",
    "  \n",
    "val = ['Shiv', 'angi']  \n",
    "  \n",
    "iter = itertools.cycle(val)  \n",
    "  \n",
    "for i in range(6):  \n",
    "    # Using next function  \n",
    "    print(next(iter), end = \" \")  "
   ]
  },
  {
   "cell_type": "markdown",
   "id": "40ac0f7d",
   "metadata": {},
   "source": [
    "__repeat(val,num):__\n",
    "\n",
    "As the name suggests, it repeatedly prints the passed value for infinite time. The num argument is optional. Consider the following example:"
   ]
  },
  {
   "cell_type": "code",
   "execution_count": 1,
   "id": "1662e9b7",
   "metadata": {},
   "outputs": [
    {
     "name": "stdout",
     "output_type": "stream",
     "text": [
      "Printing the number repeadtly:\n",
      "[40, 40, 40, 40, 40, 40, 40, 40, 40, 40, 40, 40, 40, 40, 40, 40, 40, 40, 40, 40, 40, 40, 40, 40, 40, 40, 40, 40, 40, 40, 40, 40, 40, 40, 40, 40, 40, 40, 40, 40, 40, 40, 40, 40, 40, 40, 40, 40, 40, 40, 40, 40, 40, 40, 40, 40, 40, 40, 40, 40, 40, 40, 40, 40, 40, 40, 40, 40, 40, 40, 40, 40, 40, 40, 40, 40, 40, 40, 40, 40, 40, 40, 40, 40, 40, 40, 40, 40, 40, 40, 40, 40, 40, 40, 40, 40, 40, 40, 40, 40]\n"
     ]
    }
   ],
   "source": [
    "import itertools  \n",
    "print(\"Printing the number repeadtly:\")  \n",
    "print(list(itertools.repeat(40,100)))  "
   ]
  },
  {
   "cell_type": "markdown",
   "id": "7e37483f",
   "metadata": {},
   "source": [
    "__Combinatoric iterators:__\n",
    "\n",
    "The complex combinatorial constructs are simplified by the recursive generators. The permutations, combinations, and Cartesian products are the example of the combinatoric construct."
   ]
  },
  {
   "cell_type": "markdown",
   "id": "d2116eaf",
   "metadata": {},
   "source": [
    "In Python, there are four types of combinatoric iterators:\n",
    "\n",
    "__Product()__\n",
    "\n",
    "- It is used to calculate the cartesian product of input iterable. In this function, we use the optional repeat keyword argument for computation of the product of an iterable with itself. The repeat keyword represents the number of repetitions. It returns output in the form of sorted tuples. Consider the following example:"
   ]
  },
  {
   "cell_type": "code",
   "execution_count": 8,
   "id": "96931212",
   "metadata": {},
   "outputs": [
    {
     "name": "stdout",
     "output_type": "stream",
     "text": [
      "We are computing cartesian product using repeat Keyword Argument:\n",
      "[(1, 1), (1, 2), (2, 1), (2, 2)]\n",
      "\n",
      "We are computing cartesian product of the containers:\n",
      "[('Java', '5'), ('T', '5'), ('point', '5')]\n",
      "\n",
      "We are computing product of the containers:\n",
      "[('C', 4), ('C', 5), ('D', 4), ('D', 5)]\n"
     ]
    }
   ],
   "source": [
    "from itertools import product  \n",
    "  \n",
    "print(\"We are computing cartesian product using repeat Keyword Argument:\")  \n",
    "print(list(product([1, 2], repeat=2)))  \n",
    "print()  \n",
    "  \n",
    "print(\"We are computing cartesian product of the containers:\")  \n",
    "print(list(product(['Java', 'T', 'point'], '5')))  \n",
    "print()  \n",
    "  \n",
    "print(\"We are computing product of the containers:\")  \n",
    "print(list(product('CD', [4, 5])))  "
   ]
  },
  {
   "cell_type": "markdown",
   "id": "c6def328",
   "metadata": {},
   "source": [
    "__Permutations():__\n",
    "\n",
    "It is used to generate all possible permutation of an iterable. The uniqueness of each element depends upon their position instead of values. It accepts two argument iterable and group_size. If the value of group_size is none or not specified then group_size turns into length of the iterable."
   ]
  },
  {
   "cell_type": "code",
   "execution_count": 9,
   "id": "74a6cbbc",
   "metadata": {},
   "outputs": [
    {
     "name": "stdout",
     "output_type": "stream",
     "text": [
      "Computing all permutation of the following list\n",
      "[(3, 'Python'), ('Python', 3)]\n",
      "\n",
      "Permutations of following string\n",
      "[('A', 'B'), ('B', 'A')]\n",
      "\n",
      "Permutation of the given container is:\n",
      "[(0, 1), (0, 2), (0, 3), (1, 0), (1, 2), (1, 3), (2, 0), (2, 1), (2, 3), (3, 0), (3, 1), (3, 2)]\n"
     ]
    }
   ],
   "source": [
    "from itertools import permutations  \n",
    "  \n",
    "print(\"Computing all permutation of the following list\")  \n",
    "print(list(permutations([3,\"Python\"],2)))  \n",
    "print()  \n",
    "  \n",
    "print(\"Permutations of following string\")  z\n",
    "print(list(permutations('AB')))  \n",
    "print()  \n",
    "  \n",
    "print(\"Permutation of the given container is:\")  \n",
    "print(list(permutations(range(4),2)))  "
   ]
  },
  {
   "cell_type": "markdown",
   "id": "02e2d4ab",
   "metadata": {},
   "source": [
    "__Combinations():__\n",
    "\n",
    "It is used to print all the possible combinations (without replacement) of the container which is passed as argument in the specified group size in sorted order."
   ]
  },
  {
   "cell_type": "code",
   "execution_count": 10,
   "id": "8b15bc69",
   "metadata": {},
   "outputs": [
    {
     "name": "stdout",
     "output_type": "stream",
     "text": [
      "Combination of list in sorted order(without replacement) [('B', 3)]\n",
      "\n",
      "Combination of string in sorted order [('Z', 'X')]\n",
      "\n",
      "Combination of list in sorted order [(0,), (1,), (2,), (3,), (4,), (5,), (6,), (7,), (8,), (9,), (10,), (11,), (12,), (13,), (14,), (15,), (16,), (17,), (18,), (19,)]\n"
     ]
    }
   ],
   "source": [
    "from itertools import combinations  \n",
    "print(\"Combination of list in sorted order(without replacement)\",list(combinations(['B',3],2)))  \n",
    "print()  \n",
    "  \n",
    "print(\"Combination of string in sorted order\",list(combinations(\"ZX\",2)))  \n",
    "print()  \n",
    "  \n",
    "print(\"Combination of list in sorted order\",list(combinations(range(20),1)))  "
   ]
  },
  {
   "cell_type": "markdown",
   "id": "7bd82aa2",
   "metadata": {},
   "source": [
    "__Combination_with_replacement():__\n",
    "\n",
    "It accepts two arguments, first argument is a r-length tuple and the second argument is repetition. It returns a subsequence of length n from the elements of the iterable and repeat the same process. Separate elements may repeat itself in combination_with_replacement()"
   ]
  },
  {
   "cell_type": "code",
   "execution_count": 11,
   "id": "7af3fbd1",
   "metadata": {},
   "outputs": [
    {
     "name": "stdout",
     "output_type": "stream",
     "text": [
      "Combination of string in sorted order(with replacement) is:\n",
      "[('X', 'X', 'X'), ('X', 'X', 'Y'), ('X', 'Y', 'Y'), ('Y', 'Y', 'Y')]\n",
      "\n",
      "Combination of list in sorted order(with replacement) is:\n",
      "[(4, 4, 4), (4, 4, 2), (4, 2, 2), (2, 2, 2)]\n",
      "\n",
      "Combination of container in sorted order(with replacement) is:\n",
      "[(0, 0), (0, 1), (0, 2), (1, 1), (1, 2), (2, 2)]\n"
     ]
    }
   ],
   "source": [
    "from itertools import combinations_with_replacement  \n",
    "  \n",
    "print(\"Combination of string in sorted order(with replacement) is:\")  \n",
    "print(list(combinations_with_replacement(\"XY\", 3)))  \n",
    "print()  \n",
    "  \n",
    "print(\"Combination of list in sorted order(with replacement) is:\")  \n",
    "print(list(combinations_with_replacement([4, 2], 3)))  \n",
    "print()  \n",
    "  \n",
    "print(\"Combination of container in sorted order(with replacement) is:\")  \n",
    "print(list(combinations_with_replacement(range(3), 2)))  "
   ]
  },
  {
   "cell_type": "markdown",
   "id": "96993454",
   "metadata": {},
   "source": [
    "__Terminating Iterator__\n",
    "\n",
    "Terminating iterators are generally used to work on the small input sequence and generate the output based on the functionality of the method used in iterator.\n",
    "\n",
    "There are different types of terminating iterator:\n",
    "\n",
    "__accumulate(iter, func):__\n",
    "\n",
    "It takes two arguments, the first argument is iterable and the second is a function which would be followed at each iteration of value in iterable. If the function is not defined in accumulate() iterator, addition takes place by default. The output iterable depends on the input iterable; if input iterable contains no value then the output iterable will also be empty."
   ]
  },
  {
   "cell_type": "code",
   "execution_count": 12,
   "id": "be7b5a76",
   "metadata": {},
   "outputs": [
    {
     "name": "stdout",
     "output_type": "stream",
     "text": [
      "The sum is : [1, 5, 10, 17, 26, 37]\n",
      "The product is : [1, 4, 20, 140, 1260, 13860]\n",
      "The sum is : [1, 5, 10, 17, 26, 37]\n",
      "The product is : [1, 4, 20, 140, 1260, 13860]\n"
     ]
    }
   ],
   "source": [
    "import itertools  \n",
    "import operator  \n",
    "  \n",
    "# initializing list 1  \n",
    "list1 = [1, 4, 5, 7, 9, 11]  \n",
    "  \n",
    "# using accumulate() that will prints the successive summation of elements  \n",
    "print(\"The sum is : \", end=\"\")  \n",
    "print(list(itertools.accumulate(list1)))  \n",
    "  \n",
    "# using accumulate() that will prints the successive multiplication of elements  \n",
    "print(\"The product is : \", end=\"\")  \n",
    "print(list(itertools.accumulate(list1, operator.mul)))  \n",
    "  \n",
    "  \n",
    "# using accumulate() that will prints the successive summation of elements  \n",
    "print(\"The sum is : \", end=\"\")  \n",
    "print(list(itertools.accumulate(list1)))  \n",
    "  \n",
    "# using accumulate() that will prints the successive multiplication of elements  \n",
    "print(\"The product is : \", end=\"\")  \n",
    "print(list(itertools.accumulate(list1, operator.mul)))  "
   ]
  },
  {
   "cell_type": "markdown",
   "id": "d37b302c",
   "metadata": {},
   "source": [
    "__chain(iter1, iter2) -__\n",
    "\n",
    "It is used to print all the values in iterable passed in the form of chain and declared in arguments. Consider the following example:"
   ]
  },
  {
   "cell_type": "code",
   "execution_count": 13,
   "id": "6bf0f8c4",
   "metadata": {},
   "outputs": [
    {
     "name": "stdout",
     "output_type": "stream",
     "text": [
      "The output is : [1, 2, 3, 4, 1, 5, 6, 8, 9, 10, 11, 12]\n"
     ]
    }
   ],
   "source": [
    "import itertools  \n",
    "  \n",
    "# declaring list 1  \n",
    "list1 = [1, 2, 3, 4]  \n",
    "  \n",
    "# declaring list 2  \n",
    "list2 = [1, 5, 6, 8]  \n",
    "  \n",
    "# declaring list 3  \n",
    "list3 = [9, 10, 11, 12]  \n",
    "  \n",
    "# using chain() function that will to print all elements of lists  \n",
    "print(\"The output is : \", end=\"\")  \n",
    "print(list(itertools.chain(list1, list2, list3)))  "
   ]
  },
  {
   "cell_type": "markdown",
   "id": "e5ad9b2f",
   "metadata": {},
   "source": [
    "__dropwhile(func, seq) -__\n",
    "\n",
    "It starts printing the character only after the func. Consider the following argument:"
   ]
  },
  {
   "cell_type": "code",
   "execution_count": 4,
   "id": "da64b143",
   "metadata": {},
   "outputs": [
    {
     "name": "stdout",
     "output_type": "stream",
     "text": [
      "The output is : [5, 7, 8]\n"
     ]
    }
   ],
   "source": [
    "import itertools  \n",
    "# initializing list  \n",
    "list1 = [2, 4, 5, 7, 8]  \n",
    "# using dropwhile() iterator that will print start displaying after condition is false  \n",
    "print(\"The output is : \", end=\"\")  \n",
    "print(list(itertools.dropwhile(lambda x: x % 2 == 0, list1)))  "
   ]
  },
  {
   "cell_type": "markdown",
   "id": "e1741f58",
   "metadata": {},
   "source": [
    "__filterfalse(func,seq) -__\n",
    "\n",
    "We can assume it by its name, as this iterator prints only those values that return false for the passed function. Consider the following example:"
   ]
  },
  {
   "cell_type": "code",
   "execution_count": 6,
   "id": "10dc3795",
   "metadata": {},
   "outputs": [
    {
     "name": "stdout",
     "output_type": "stream",
     "text": [
      "The Output is: [15, 27]\n"
     ]
    }
   ],
   "source": [
    "import itertools  \n",
    "  \n",
    "# declaring list  \n",
    "list1 = [12, 14, 15, 27, 28]  \n",
    "  \n",
    "# using filterfalse() iterator that will print false values  \n",
    "print(\"The Output is: \", end=\"\")  \n",
    "print(list(itertools.filterfalse(lambda x: x % 2 == 0, list1)))  "
   ]
  },
  {
   "cell_type": "markdown",
   "id": "2ce0199a",
   "metadata": {},
   "source": [
    "__islice(iterable,start,stop,step) -__\n",
    "\n",
    "It slices the given iterable according to given position. It accepts four arguments respectively and these are iterable, container, starting pos., ending position and step(optional)."
   ]
  },
  {
   "cell_type": "code",
   "execution_count": 16,
   "id": "5c64d6bf",
   "metadata": {},
   "outputs": [
    {
     "name": "stdout",
     "output_type": "stream",
     "text": [
      "The sliced list values are : [65, 80, 20]\n"
     ]
    }
   ],
   "source": [
    "import itertools  \n",
    "# Declaring list  \n",
    "list1 = [12, 34, 65, 73, 80, 19, 20]  \n",
    "# using islice() iterator that will slice the list acc. to given argument  \n",
    "# starts printing from 3nd index till 8th skipping 2  \n",
    "print(\"The sliced list values are : \", end=\"\")  \n",
    "print(list(itertools.islice(list1, 2, 8, 2)))  "
   ]
  },
  {
   "cell_type": "markdown",
   "id": "e303771b",
   "metadata": {},
   "source": [
    "__starmap(func, tuple list) -__\n",
    "\n",
    "It takes two arguments; first argument is function and second argument is list which consists element in the form of tuple. Consider the following example."
   ]
  },
  {
   "cell_type": "code",
   "execution_count": 17,
   "id": "ac0713ff",
   "metadata": {},
   "outputs": [
    {
     "name": "stdout",
     "output_type": "stream",
     "text": [
      "The values acc. to function are : [20, 40, 90, 27]\n"
     ]
    }
   ],
   "source": [
    "import itertools  \n",
    "  \n",
    "# Declaring list that contain tuple as element  \n",
    "list1 = [(10, 20, 15), (18, 40, 19), (53, 42, 90), (16, 12, 27)]  \n",
    "  \n",
    "# using starmap() iterator for selection value acc. to function  \n",
    "# selects max of all tuple values  \n",
    "print(\"The values acc. to function are : \", end=\"\")  \n",
    "print(list(itertools.starmap(max, list1)))  "
   ]
  },
  {
   "cell_type": "markdown",
   "id": "17c9d6b1",
   "metadata": {},
   "source": [
    "__takewhile(func, iterable) -__\n",
    "\n",
    "It is visa-versa of dropwhile(). It will print values until it returns false condition. Consider the following example:"
   ]
  },
  {
   "cell_type": "code",
   "execution_count": 18,
   "id": "2632e393",
   "metadata": {},
   "outputs": [
    {
     "name": "stdout",
     "output_type": "stream",
     "text": [
      "Print until 1st false value returned : [20, 42, 64]\n"
     ]
    }
   ],
   "source": [
    "import itertools  \n",
    "  \n",
    "# Defining a list  \n",
    "list1 = [20, 42, 64, 77, 8, 10, 20]  \n",
    "  \n",
    "# takewhile() iterator is used  to print values till condition return false.  \n",
    "print(\"Print until 1st false value returned : \", end=\"\")  \n",
    "print(list(itertools.takewhile(lambda x: x % 2 == 0, list1)))  "
   ]
  },
  {
   "cell_type": "markdown",
   "id": "7da75dc6",
   "metadata": {},
   "source": [
    "__tee(iterator, count) -__\n",
    "\n",
    "It divides the container into a number of iterators which is defined in the argument. Consider the following example:"
   ]
  },
  {
   "cell_type": "markdown",
   "id": "deb8e724",
   "metadata": {},
   "source": [
    " __zip_longest(iterable1, iterable2, fillval) -__\n",
    " \n",
    " It prints the values of iterable alternatively in sequence. If one of the iterable prints all values, remaining values are filled by the values assigned to fill value."
   ]
  },
  {
   "cell_type": "code",
   "execution_count": 20,
   "id": "f8b5dd2b",
   "metadata": {},
   "outputs": [
    {
     "name": "stdout",
     "output_type": "stream",
     "text": [
      " The combined value of iterrables is :\n",
      "('J', 'T') ('a', 'p') ('v', 'o') ('a', 'i') ('_', 'n') ('_', 't')\n"
     ]
    }
   ],
   "source": [
    "import itertools  \n",
    "print(\" The combined value of iterrables is :\")  \n",
    "print(*(itertools.zip_longest('Java', 'Tpoint', fillvalue='_')))  "
   ]
  },
  {
   "cell_type": "code",
   "execution_count": null,
   "id": "29816a7c",
   "metadata": {},
   "outputs": [],
   "source": []
  }
 ],
 "metadata": {
  "kernelspec": {
   "display_name": "Python 3 (ipykernel)",
   "language": "python",
   "name": "python3"
  },
  "language_info": {
   "codemirror_mode": {
    "name": "ipython",
    "version": 3
   },
   "file_extension": ".py",
   "mimetype": "text/x-python",
   "name": "python",
   "nbconvert_exporter": "python",
   "pygments_lexer": "ipython3",
   "version": "3.9.7"
  }
 },
 "nbformat": 4,
 "nbformat_minor": 5
}
