{
 "cells": [
  {
   "cell_type": "markdown",
   "id": "6697a1eb",
   "metadata": {},
   "source": [
    "__Python for loop__\n",
    "\n",
    "Python is a powerful, general-purpose scripting language intended to be simple to understand and implement. It is free to access because it is open-source. This tutorial will teach us how to use Python for loops, one of the most basic looping instructions in Python programming.\n",
    "\n",
    "__Introduction to for Loop in Python__\n",
    "\n",
    "In Python, the for loop is often used to iterate over iterable objects such as lists, tuples, or strings. Traversal is the process of iterating across a series. If we have a section of code that we would like to repeat a certain number of times, we employ for loops. The for-loop is usually used on an iterable object such as a list or the in-built range function. The for statement in Python traverses through the elements of a series, running the block of code each time. The for statement is in opposition to the \"while\" loop, which is employed whenever a condition requires to be verified each repetition or when a piece of code is to be repeated indefinitely.\n",
    "\n",
    "__Syntax of for Loop__\n",
    "\n",
    "for value in sequence:  \n",
    "    {loop body}   \n",
    "    \n",
    "\n",
    "On each iteration, the value is the parameter that gets the element's value within the iterable sequence. If an expression statement is present in a sequence, it is processed first. The iterating variable iterating_variable is then allocated to the first element in the sequence. After that, the intended block is run. The statement block is performed until the whole sequence is completed, and each element in the sequence is allocated to iterating_variable. The for loop's material is distinguished from the rest of the program using indentation.\n",
    "\n",
    "__Example of Python for Loop__\n",
    "\n"
   ]
  },
  {
   "cell_type": "code",
   "execution_count": 2,
   "id": "e06045bf",
   "metadata": {},
   "outputs": [
    {
     "name": "stdout",
     "output_type": "stream",
     "text": [
      "The sum of squares is:  774\n"
     ]
    }
   ],
   "source": [
    "# Code to find the sum of squares of each element of the list using for loop  \n",
    "  \n",
    "# creating the list of numbers  \n",
    "numbers = [3, 5, 23, 6, 5, 1, 2, 9, 8]  \n",
    "  \n",
    "# initializing a variable that will store the sum  \n",
    "sum_ = 0  \n",
    "  \n",
    "# using for loop to iterate over the list  \n",
    "for num in numbers:\n",
    "    sum_ = sum_ + num ** 2   \n",
    "  \n",
    "print(\"The sum of squares is: \", sum_)  "
   ]
  },
  {
   "cell_type": "markdown",
   "id": "708f4ec6",
   "metadata": {},
   "source": [
    "__The range() Function__\n",
    "\n",
    "Because the \"range\" function appears so frequently in for loops, we might mistakenly believe the range is a component of the syntax of for loop. It isn't: it's a Python built-in method that provides a series that follows a specified pattern (usually serial integers), fulfilling the criteria of giving a series for the for expression to run over. There is no necessity to count because for can act straight on sequences most of the time. If they're coming from some other language with distinctive loop syntax, this is a frequent novice construct:\n",
    "\n",
    "Code"
   ]
  },
  {
   "cell_type": "code",
   "execution_count": 2,
   "id": "0bea6f1a",
   "metadata": {},
   "outputs": [
    {
     "name": "stdout",
     "output_type": "stream",
     "text": [
      "[3, 5, 6, 8, 4, 5, 7, 8, 10, 6]\n"
     ]
    }
   ],
   "source": [
    "my_list = [3, 5, 6, 8, 4]  \n",
    "for iter_var in range( len( my_list ) ):  \n",
    "    my_list.append(my_list[iter_var] + 2)  \n",
    "print( my_list )  \n"
   ]
  },
  {
   "cell_type": "markdown",
   "id": "cb7ed6bb",
   "metadata": {},
   "source": [
    "__Iterating by Using Index of Sequence__\n",
    "\n",
    "Another method of iterating through every item is to use an index offset within the sequence. Here's a simple illustration:\n",
    "\n",
    "Code"
   ]
  },
  {
   "cell_type": "code",
   "execution_count": 5,
   "id": "ca00e969",
   "metadata": {},
   "outputs": [
    {
     "name": "stdout",
     "output_type": "stream",
     "text": [
      "The sum of squares is:  774\n"
     ]
    }
   ],
   "source": [
    "# Code to find the sum of squares of each element of the list using for loop  \n",
    "  \n",
    "# creating the list of numbers  \n",
    "numbers = [3, 5, 23, 6, 5, 1, 2, 9, 8]  \n",
    "  \n",
    "# initializing a variable that will store the sum  \n",
    "sum_ = 0  \n",
    "  \n",
    "# using for loop to iterate over list  \n",
    "for num in range( len(numbers) ):\n",
    "    sum_ = sum_ + numbers[num] ** 2   \n",
    "  \n",
    "print(\"The sum of squares is: \", sum_)  "
   ]
  },
  {
   "cell_type": "markdown",
   "id": "7eac6aea",
   "metadata": {},
   "source": [
    "The len() built-in method that returns the total number of items in the list or tuple and the built-in function range(), which returns the exact sequence to iterate over, came in handy here."
   ]
  },
  {
   "cell_type": "markdown",
   "id": "a075d609",
   "metadata": {},
   "source": [
    "__Using else Statement with for Loop__\n",
    "\n",
    "Python allows you to connect an else expression with a loop expression.\n",
    "\n",
    "When the else clause is combined with a for loop, it is performed after the circuit has finished iterating over the list.\n",
    "\n",
    "The following instance shows how to use an otherwise statement in conjunction with a for expression to find students' marks from the record.\n",
    "\n",
    "Code"
   ]
  },
  {
   "cell_type": "code",
   "execution_count": 7,
   "id": "923e64de",
   "metadata": {},
   "outputs": [
    {
     "name": "stdout",
     "output_type": "stream",
     "text": [
      "Marks of Itika are:  90\n",
      "Marks of Parker are:  There is no student of name Parker in the records\n"
     ]
    }
   ],
   "source": [
    "# code to print marks of a student from the record  \n",
    "student_name_1 = 'Itika'  \n",
    "student_name_2 = 'Parker'  \n",
    "  \n",
    "  \n",
    "# Creating a dictionary of records of the students  \n",
    "records = {'Itika': 90, 'Arshia': 92, 'Peter': 46}\n",
    "\n",
    "def marks( student_name ):  \n",
    "    for a_student in records: # for loop will iterate over the keys of the dictionary  \n",
    "        if a_student == student_name:  \n",
    "            return records[ a_student ]  \n",
    "            break  \n",
    "    else:  \n",
    "        return f'There is no student of name {student_name} in the records'   \n",
    "          \n",
    "# giving the function marks() name of two students  \n",
    "print( f\"Marks of {student_name_1} are: \", marks( student_name_1 ) )  \n",
    "print( f\"Marks of {student_name_2} are: \", marks( student_name_2 ) )  "
   ]
  },
  {
   "cell_type": "markdown",
   "id": "f018a9af",
   "metadata": {},
   "source": [
    "__Nested Loops__\n",
    "\n",
    "If we have a piece of script that we want to run a number of times and then another piece of script inside that script that we want to run B number of times, we employ a \"nested loop.\" When working with an iterable in the lists, these are widely utilized in Python.\n",
    "\n",
    "Code"
   ]
  },
  {
   "cell_type": "code",
   "execution_count": 21,
   "id": "e7d68f43",
   "metadata": {},
   "outputs": [
    {
     "name": "stdout",
     "output_type": "stream",
     "text": [
      "0 0 1 3 4 5 6 7 10 10 "
     ]
    }
   ],
   "source": [
    "import random  \n",
    "numbers = [ ]  \n",
    "for val in range(0, 11):  \n",
    "    numbers.append( random.randint( 0, 11 ) )  \n",
    "for num in range( 0, 11 ):  \n",
    "    for i in numbers:  \n",
    "        if num == i:  \n",
    "            print( num, end = \" \" )  "
   ]
  },
  {
   "cell_type": "markdown",
   "id": "3cbd04d1",
   "metadata": {},
   "source": [
    "__Python While Loops__\n",
    "\n",
    "In coding, loops are designed to execute a specified code block repeatedly. We'll learn how to construct a while loop in Python, the syntax of a while loop, loop controls like break and continue, and other exercises in this tutorial.\n",
    "\n",
    "__Introduction of Python While Loop__\n",
    "\n",
    "The Python while loop iteration of a code block is executed as long as the given condition, i.e., conditional_expression, is true.\n",
    "\n",
    "If we don't know how many times we'll execute the iteration ahead of time, we can write an indefinite loop.\n",
    "\n",
    "__Syntax of Python While Loop__\n",
    "\n",
    "while conditional_expression:  \n",
    "    Code block of while  \n",
    "    \n",
    "The given condition, i.e., conditional_expression, is evaluated initially in the Python while loop. Then, if the conditional expression gives a boolean value True, the while loop statements are executed. The conditional expression is verified again when the complete code block is executed. This procedure repeatedly occurs until the conditional expression returns the boolean value False.\n",
    "\n",
    "The statements of the Python while loop are dictated by indentation.\n",
    "\n",
    "The code block begins when a statement is indented & ends with the very first unindented statement.\n",
    "\n",
    "Any non-zero number in Python is interpreted as boolean True. False is interpreted as None and 0.\n",
    "\n",
    "Python While Loop Example\n",
    "\n",
    "Here we will sum of squares of the first 15 natural numbers using a while loop."
   ]
  },
  {
   "cell_type": "code",
   "execution_count": 9,
   "id": "f0de1b9a",
   "metadata": {},
   "outputs": [
    {
     "name": "stdout",
     "output_type": "stream",
     "text": [
      "The sum of squares is 1240\n"
     ]
    }
   ],
   "source": [
    "# Python program example to show the use of while loop   \n",
    "  \n",
    "num = 15  \n",
    "  \n",
    "# initializing summation and a counter for iteration  \n",
    "summation = 0  \n",
    "c = 1  \n",
    "  \n",
    "while c <= num: # specifying the condition of the loop  \n",
    "    # begining the code block  \n",
    "    summation = c**2 + summation  \n",
    "    c = c + 1    # incrementing the counter  \n",
    "  \n",
    "# print the final sum  \n",
    "print(\"The sum of squares is\", summation)  "
   ]
  },
  {
   "cell_type": "markdown",
   "id": "b1d7f98c",
   "metadata": {},
   "source": [
    "Provided that our counter parameter i gives boolean true for the condition, i less than or equal to num, the loop repeatedly executes the code block i number of times.\n",
    "\n",
    "Next is a crucial point (which is mostly forgotten). We have to increment the counter parameter's value in the loop's statements. If we don't, our while loop will execute itself indefinitely (a never-ending loop).\n",
    "\n",
    "Finally, we print the result using the print statement.\n",
    "\n",
    "Exercises of Python While Loop\n",
    "\n",
    "Prime Numbers and Python While Loop\n",
    "\n",
    "Using a while loop, we will construct a Python program to verify if the given integer is a prime number or not."
   ]
  },
  {
   "cell_type": "code",
   "execution_count": 10,
   "id": "edd0845e",
   "metadata": {},
   "outputs": [
    {
     "name": "stdout",
     "output_type": "stream",
     "text": [
      "34 is not a PRIME number\n",
      "12 is not a PRIME number\n",
      "54 is not a PRIME number\n",
      "23 is a PRIME number\n",
      "75 is not a PRIME number\n",
      "34 is not a PRIME number\n",
      "11 is a PRIME number\n"
     ]
    }
   ],
   "source": [
    "num = [34, 12, 54, 23, 75, 34, 11]    \n",
    "  \n",
    "def prime_number(number):  \n",
    "    condition = 0  \n",
    "    iteration = 2  \n",
    "    while iteration <= number / 2:  \n",
    "        if number %0 iteration == 0:  \n",
    "            condition = 1  \n",
    "            break  \n",
    "        iteration = iteration + 1  \n",
    "  \n",
    "    if condition == 0:  \n",
    "        print(f\"{number} is a PRIME number\")  \n",
    "    else:  \n",
    "        print(f\"{number} is not a PRIME number\")  \n",
    "for i in num:  \n",
    "    prime_number(i)  "
   ]
  },
  {
   "cell_type": "markdown",
   "id": "d8929873",
   "metadata": {},
   "source": [
    "__Multiplication Table using While Loop__\n",
    "\n",
    "In this example, we will use the while loop for printing the multiplication table of a given number.\n",
    "\n",
    "Code"
   ]
  },
  {
   "cell_type": "code",
   "execution_count": 3,
   "id": "a8a19982",
   "metadata": {},
   "outputs": [
    {
     "name": "stdout",
     "output_type": "stream",
     "text": [
      "enter a number: 69\n",
      "The Multiplication Table of:  69\n",
      "69 x 1 = 69\n",
      "69 x 2 = 138\n",
      "69 x 3 = 207\n",
      "69 x 4 = 276\n",
      "69 x 5 = 345\n",
      "69 x 6 = 414\n",
      "69 x 7 = 483\n",
      "69 x 8 = 552\n",
      "69 x 9 = 621\n",
      "69 x 10 = 690\n"
     ]
    }
   ],
   "source": [
    "num = int(input(\"enter a number: \"))    \n",
    "counter = 1\n",
    "# we will use a while loop for iterating 10 times for the multiplication table        \n",
    "print(\"The Multiplication Table of: \", num)      \n",
    "while counter <= 10: # specifying the condition  \n",
    "    ans = num * counter      \n",
    "    print (num, 'x', counter, '=', ans)      \n",
    "    counter += 1 # expression to increment the counter  "
   ]
  },
  {
   "cell_type": "markdown",
   "id": "05e93250",
   "metadata": {},
   "source": [
    "__Python While Loop with List__\n",
    "\n",
    "We will use a Python while loop to square every number of a list\n",
    "\n",
    "Code"
   ]
  },
  {
   "cell_type": "code",
   "execution_count": 12,
   "id": "9af32156",
   "metadata": {},
   "outputs": [
    {
     "name": "stdout",
     "output_type": "stream",
     "text": [
      "[36, 16, 1, 25, 9]\n"
     ]
    }
   ],
   "source": [
    "# Python program to square every number of a list  \n",
    "# initializing a list  \n",
    "list_ = [3, 5, 1, 4, 6]  \n",
    "squares = []  \n",
    "# programing a while loop   \n",
    "while list_: # until list is not empty this expression will give boolean True after that False  \n",
    "    squares.append( (list_.pop())**2)  \n",
    "# print the squares  \n",
    "print( squares )  "
   ]
  },
  {
   "cell_type": "markdown",
   "id": "4ecb77d6",
   "metadata": {},
   "source": [
    "In the preceding example, we execute a while loop over a given list of integers that will repeatedly run as long as an element in the list is found.\n",
    "\n",
    "__Python While Loop Multiple Conditions__\n",
    "\n",
    "We'll need to recruit logical operators to combine two or more expressions specifying conditions into a single while loop. This instructs Python on collectively analyzing all of the given expressions of conditions.\n",
    "\n",
    "We can construct a while loop with multiple conditions in this example. We have given two conditions and a and keyword, meaning until both conditions give boolean True, the loop will execute the statements.\n",
    "\n",
    "Code"
   ]
  },
  {
   "cell_type": "code",
   "execution_count": 4,
   "id": "6c7551b9",
   "metadata": {},
   "outputs": [
    {
     "name": "stdout",
     "output_type": "stream",
     "text": [
      "(7, -3)\n"
     ]
    }
   ],
   "source": [
    "num1 = 9\n",
    "num2 = -6\n",
    "   \n",
    "while num1 > 5 and num2 < -5 : # multiple conditions in a single while loop  \n",
    "    num1 -= 2\n",
    "    num2 += 3  \n",
    "    print( (num1, num2) )  "
   ]
  },
  {
   "cell_type": "code",
   "execution_count": 14,
   "id": "a6c30809",
   "metadata": {},
   "outputs": [
    {
     "name": "stdout",
     "output_type": "stream",
     "text": [
      "(15, -9)\n",
      "(13, -6)\n",
      "(11, -3)\n",
      "(9, 0)\n",
      "(7, 3)\n",
      "(5, 6)\n"
     ]
    }
   ],
   "source": [
    "num1 = 17  \n",
    "num2 = -12  \n",
    "   \n",
    "while num1 > 5 or num2 < -5 :  \n",
    "    num1 -= 2  \n",
    "    num2 += 3  \n",
    "    print( (num1, num2) )  "
   ]
  },
  {
   "cell_type": "code",
   "execution_count": 15,
   "id": "32338558",
   "metadata": {},
   "outputs": [
    {
     "name": "stdout",
     "output_type": "stream",
     "text": [
      "Number of iterations: 0\n",
      "Number of iterations: 1\n",
      "Number of iterations: 2\n",
      "Number of iterations: 3\n"
     ]
    }
   ],
   "source": [
    "num1 = 9   \n",
    "num = 14   \n",
    "maximum_value = 4  \n",
    "counter = 0   \n",
    "while (counter < num1 or counter < num2) and not counter >= maximum_value: # grouping multiple conditions  \n",
    "    print(f\"Number of iterations: {counter}\")   \n",
    "    counter += 1  "
   ]
  },
  {
   "cell_type": "markdown",
   "id": "26cba469",
   "metadata": {},
   "source": [
    "__Single Statement While Loop__\n",
    "\n",
    "Similar to the if statement syntax, if our while clause consists of one statement, it may be written on the same line as the while keyword.\n",
    "\n",
    "Here is the syntax and example of a one-line while clause -\n",
    "\n",
    " Python program to show how to create a single statement while loop\n",
    " \n",
    "counter = 1  \n",
    "\n",
    "while counter: print('Python While Loops')"
   ]
  },
  {
   "cell_type": "markdown",
   "id": "76e09f57",
   "metadata": {},
   "source": [
    "__Loop Control Statements__\n",
    "\n",
    "Now we will discuss the loop control statements in detail. We will see an example of each control statement.\n",
    "\n",
    "__Continue Statement__\n",
    "\n",
    "It returns the control of the Python interpreter to the beginning of the loop."
   ]
  },
  {
   "cell_type": "code",
   "execution_count": 6,
   "id": "49daca0d",
   "metadata": {},
   "outputs": [
    {
     "name": "stdout",
     "output_type": "stream",
     "text": [
      "Current Letter: W\n",
      "Current Letter: h\n",
      "Current Letter: l\n",
      "Current Letter:  \n",
      "Current Letter: L\n",
      "Current Letter: p\n",
      "Current Letter: s\n"
     ]
    }
   ],
   "source": [
    "# Python program to show how to use continue loop control  \n",
    "  \n",
    "# Initiating the loop  \n",
    "for string in \"While Loops\":  \n",
    "    if string == \"o\" or string == \"i\" or string == \"e\":  \n",
    "         continue  \n",
    "    print('Current Letter:', string)  "
   ]
  },
  {
   "cell_type": "markdown",
   "id": "31011762",
   "metadata": {},
   "source": [
    "__Break Statement__\n",
    "\n",
    "It stops the execution of the loop when the break statement is reached.\n",
    "\n",
    "Code"
   ]
  },
  {
   "cell_type": "code",
   "execution_count": 17,
   "id": "88e35c9f",
   "metadata": {},
   "outputs": [
    {
     "name": "stdout",
     "output_type": "stream",
     "text": [
      "Current Letter:  P\n",
      "Current Letter:  y\n",
      "Current Letter:  t\n",
      "Current Letter:  h\n",
      "Current Letter:  o\n"
     ]
    }
   ],
   "source": [
    "# Python program to show how to use the break statement  \n",
    "  \n",
    "# Initiating the loop  \n",
    "for string in \"Python Loops\":  \n",
    "    if string == 'n':  \n",
    "         break  \n",
    "    print('Current Letter: ', string)  "
   ]
  },
  {
   "cell_type": "markdown",
   "id": "bb05acb6",
   "metadata": {},
   "source": []
  },
  {
   "cell_type": "code",
   "execution_count": null,
   "id": "abbad039",
   "metadata": {},
   "outputs": [],
   "source": []
  },
  {
   "cell_type": "code",
   "execution_count": null,
   "id": "a190bb87",
   "metadata": {},
   "outputs": [],
   "source": []
  }
 ],
 "metadata": {
  "kernelspec": {
   "display_name": "Python 3 (ipykernel)",
   "language": "python",
   "name": "python3"
  },
  "language_info": {
   "codemirror_mode": {
    "name": "ipython",
    "version": 3
   },
   "file_extension": ".py",
   "mimetype": "text/x-python",
   "name": "python",
   "nbconvert_exporter": "python",
   "pygments_lexer": "ipython3",
   "version": "3.11.4"
  }
 },
 "nbformat": 4,
 "nbformat_minor": 5
}
