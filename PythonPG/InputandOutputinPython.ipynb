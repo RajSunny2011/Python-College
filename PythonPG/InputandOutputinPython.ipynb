{
 "cells": [
  {
   "cell_type": "markdown",
   "id": "25c92a93",
   "metadata": {},
   "source": [
    "# Input and Output in Python\n",
    "\n",
    "__How to Take Input from User in Python__\n",
    "\n",
    "Sometimes a developer might want to take user input at some point in the program. To do this Python provides an input() function.\n",
    "\n",
    "Syntax:\n",
    "\n",
    "input('prompt')\n",
    "where prompt is an optional string that is displayed on the string at the time of taking input.\n",
    "\n"
   ]
  },
  {
   "cell_type": "code",
   "execution_count": 1,
   "id": "f35fe94d",
   "metadata": {},
   "outputs": [
    {
     "name": "stdout",
     "output_type": "stream",
     "text": [
      "Enter your name: Shivangi\n",
      "Hello, Shivangi\n",
      "<class 'str'>\n"
     ]
    }
   ],
   "source": [
    "# Taking input from the user\n",
    "name = input(\"Enter your name: \")\n",
    "\n",
    "# Output\n",
    "print(\"Hello, \" + name)\n",
    "print(type(name))\n"
   ]
  },
  {
   "cell_type": "markdown",
   "id": "1ba881bf",
   "metadata": {},
   "source": [
    "Note: Python takes all the input as a string input by default. To convert it to any other data type we have to convert the input explicitly. For example, to convert the input to int or float we have to use the int() and float() method respectively.\n",
    "\n",
    "__Example 2: Integer input in Python__ "
   ]
  },
  {
   "cell_type": "code",
   "execution_count": 2,
   "id": "7eb90cd0",
   "metadata": {},
   "outputs": [
    {
     "name": "stdout",
     "output_type": "stream",
     "text": [
      "Enter a number: 31\n",
      "32\n"
     ]
    }
   ],
   "source": [
    "# Taking input from the user as integer\n",
    "num = int(input(\"Enter a number: \"))\n",
    "\n",
    "add = num + 1\n",
    "\n",
    "# Output\n",
    "print(add)\n"
   ]
  },
  {
   "cell_type": "markdown",
   "id": "dee3e774",
   "metadata": {},
   "source": [
    "__How to take Multiple Inputs in Python :__\n",
    "\n",
    "we can take multiple inputs of the same data type at a time in python, using map() method in python."
   ]
  },
  {
   "cell_type": "markdown",
   "id": "0fba6a35",
   "metadata": {},
   "source": [
    "a, b, c = map(int, input(\"Enter the Numbers : \").split())\n",
    "print(\"The Numbers are : \",end = \" \")\n",
    "print(a, b, c)\n"
   ]
  },
  {
   "cell_type": "markdown",
   "id": "a419e670",
   "metadata": {},
   "source": [
    "__How take inputs for the Sequence Data Types like List, Set, Tuple, etc.__\n",
    "\n",
    "In the case of List and Set the input can be taken from the user in two ways.\n",
    "\n",
    "Taking List/Set elements one by one by using the append()/add() methods.\n",
    "\n",
    "Using map() and list() / set()  methods.\n",
    "\n",
    "Taking List/Set elements one by one \n",
    "\n",
    "Take the elements of the List/Set one by one and use the append() method in the case of List, and add() method in the case of a Set, to add the elements to the List / Set."
   ]
  },
  {
   "cell_type": "code",
   "execution_count": 3,
   "id": "48eb74fe",
   "metadata": {},
   "outputs": [
    {
     "name": "stdout",
     "output_type": "stream",
     "text": [
      "Enter the size of the List : 4\n",
      "Enter the size of the Set : 3\n",
      "Enter the List elements : \n",
      "1\n",
      "2\n",
      "3\n",
      "4\n",
      "Enter the Set elements : \n",
      "2\n",
      "7\n",
      "9\n",
      "[1, 2, 3, 4]\n",
      "{9, 2, 7}\n"
     ]
    }
   ],
   "source": [
    "\n",
    "List = list()\n",
    "Set = set()\n",
    "l = int(input(\"Enter the size of the List : \"))\n",
    "s = int(input(\"Enter the size of the Set : \"))\n",
    "print(\"Enter the List elements : \")\n",
    "for i in range(0, l):\n",
    "\tList.append(int(input()))\n",
    "print(\"Enter the Set elements : \")\n",
    "for i in range(0, s):\n",
    "\tSet.add(int(input()))\n",
    "print(List)\n",
    "print(Set)\n"
   ]
  },
  {
   "cell_type": "code",
   "execution_count": 4,
   "id": "f7574032",
   "metadata": {},
   "outputs": [
    {
     "name": "stdout",
     "output_type": "stream",
     "text": [
      "Enter List elements : 1 2 3 4 5 \n",
      "Enter the Set elements :4 8 8 8 8\n",
      "[1, 2, 3, 4, 5]\n",
      "{8, 4}\n"
     ]
    }
   ],
   "source": [
    "#Using map() and list() / set() Methods \n",
    "List = list(map(int, input(\"Enter List elements : \").split()))\n",
    "Set = set(map(int, input(\"Enter the Set elements :\").split()))\n",
    "print(List)\n",
    "print(Set)\n",
    "\n"
   ]
  },
  {
   "cell_type": "markdown",
   "id": "abf41beb",
   "metadata": {},
   "source": [
    "__Taking Input for Tuple__\n",
    "\n",
    "We know that tuples are immutable, there are no methods available to add elements to tuples. To add a new element to a tuple, first type cast the tuple to the list, later append the element to the list, and again type cast list back to a tuple."
   ]
  },
  {
   "cell_type": "code",
   "execution_count": 5,
   "id": "02a56683",
   "metadata": {},
   "outputs": [
    {
     "name": "stdout",
     "output_type": "stream",
     "text": [
      "Tuple before adding new element\n",
      "(2, 3, 4, 5, 6)\n",
      "Enter the new element : 9\n",
      "Tuple After adding the new element\n",
      "(2, 3, 4, 5, 6, 9)\n"
     ]
    }
   ],
   "source": [
    "T = (2, 3, 4, 5, 6)\n",
    "print(\"Tuple before adding new element\")\n",
    "print(T)\n",
    "L = list(T)\n",
    "L.append(int(input(\"Enter the new element : \")))\n",
    "T = tuple(L)\n",
    "print(\"Tuple After adding the new element\")\n",
    "print(T)\n"
   ]
  },
  {
   "cell_type": "markdown",
   "id": "b8b4352e",
   "metadata": {},
   "source": [
    "__How to Display Output in Python__\n",
    "\n",
    "Python provides the print() function to display output to the standard output devices. \n",
    "\n",
    "Syntax: print(value(s), sep= ‘ ‘, end = ‘\\n’, file=file, flush=flush)\n",
    "\n",
    "Parameters:\n",
    "value(s) : Any value, and as many as you like. Will be converted to string before printed\n",
    "\n",
    "sep=’separator’ : (Optional) Specify how to separate the objects, if there is more than one.Default :’ ‘\n",
    "end=’end’: (Optional) Specify what to print at the end.Default : ‘\\n’\n",
    "\n",
    "file : (Optional) An object with a write method. Default :sys.stdout\n",
    "\n",
    "flush : (Optional) A Boolean, specifying if the output is flushed (True) or buffered (False). Default: False\n",
    "\n",
    "Returns: It returns output to the screen.\n",
    "\n",
    "__Example: Python Print Output__"
   ]
  },
  {
   "cell_type": "code",
   "execution_count": 9,
   "id": "40b88230",
   "metadata": {},
   "outputs": [
    {
     "name": "stdout",
     "output_type": "stream",
     "text": [
      "GFG\n",
      "G F G\n"
     ]
    }
   ],
   "source": [
    "# Python program to demonstrate\n",
    "# print() method\n",
    "print(\"GFG\")\n",
    "\n",
    "# code for disabling the softspace feature\n",
    "print('G', 'F', 'G')\n"
   ]
  },
  {
   "cell_type": "markdown",
   "id": "a16b2477",
   "metadata": {},
   "source": [
    "In the above example, we can see that in the case of the 2nd print statement there is a space between every letter and the print statement always add a new line character at the end of the string. This is because after every character the sep parameter is printed and at the end of the string the end parameter is printed. Let’s try to change this sep and end parameter.\n",
    "\n",
    "__Example: Python Print output with custom sep and end parameter__"
   ]
  },
  {
   "cell_type": "code",
   "execution_count": 6,
   "id": "606cfaaa",
   "metadata": {},
   "outputs": [
    {
     "name": "stdout",
     "output_type": "stream",
     "text": [
      "GFGHiG&F&G\n"
     ]
    }
   ],
   "source": [
    "# Python program to demonstrate\n",
    "# print() method\n",
    "print(\"GFG\", end = \"Hi\")\n",
    "\n",
    "# code for disabling the softspace feature\n",
    "print('G', 'F', 'G', sep=\"&\")\n"
   ]
  },
  {
   "cell_type": "markdown",
   "id": "aa198eff",
   "metadata": {},
   "source": [
    "__Formatting Output__\n",
    "\n",
    "Formatting output in Python can be done in many ways. Let’s discuss them below\n",
    "\n",
    "Using formatted string literals\n",
    "We can use formatted string literals, by starting a string with f or F before opening quotation marks or triple quotation marks. In this string, we can write Python expressions between { and } that can refer to a variable or any literal value.\n",
    "\n",
    "__Example: Python String formatting using F string__"
   ]
  },
  {
   "cell_type": "code",
   "execution_count": 2,
   "id": "c9c072c6",
   "metadata": {},
   "outputs": [
    {
     "name": "stdout",
     "output_type": "stream",
     "text": [
      "Hello Shivani! How are you?\n"
     ]
    }
   ],
   "source": [
    "# Declaring a variable\n",
    "name = \"Shivani\"\n",
    "\n",
    "# Output\n",
    "print(f'Hello {name}! How are you?')\n"
   ]
  },
  {
   "cell_type": "markdown",
   "id": "cb13e82b",
   "metadata": {},
   "source": [
    "__Using format()__\n",
    "\n",
    "We can also use format() function to format our output to make it look presentable. The curly braces { } work as placeholders. We can specify the order in which variables occur in the output. \n",
    "\n",
    "__Example: Python string formatting using format() function__"
   ]
  },
  {
   "cell_type": "code",
   "execution_count": 6,
   "id": "f78ade09",
   "metadata": {},
   "outputs": [
    {
     "name": "stdout",
     "output_type": "stream",
     "text": [
      "The value of a is 10 and b is 50\n",
      "60 is the sum of 10 and 50\n",
      "-40 is the subtraction of 10 and 50\n"
     ]
    }
   ],
   "source": [
    "# Initializing variables\n",
    "a = 10\n",
    "b = 50\n",
    "\n",
    "# addition\n",
    "sum = a + b\n",
    "\n",
    "# subtraction\n",
    "sub = a- b\n",
    "\n",
    "# Output\n",
    "print('The value of a is {} and b is {}'.format(a,b))\n",
    "\n",
    "print('{2} is the sum of {0} and {1}'.format(a,b,sum))\n",
    "\n",
    "print('{sub_value} is the subtraction of {value_a} and {value_b}'.format(value_a = a ,\n",
    "\t\t\t\t\t\t\t\t\t\t\t\t\t\t\t\t\t\tvalue_b = b,\n",
    "\t\t\t\t\t\t\t\t\t\t\t\t\t\t\t\t\t\tsub_value = sub))\n"
   ]
  },
  {
   "cell_type": "markdown",
   "id": "6d0ba9f2",
   "metadata": {},
   "source": [
    "__Using % Operator__\n",
    "\n",
    "We can use ‘%’ operator. % values are replaced with zero or more value of elements. The formatting using % is similar to that of ‘printf’ in the C programming language.\n",
    "\n",
    "%d – integer\n",
    "%f – float\n",
    "%s – string\n",
    "%x – hexadecimal\n",
    "%o – octal"
   ]
  },
  {
   "cell_type": "code",
   "execution_count": 3,
   "id": "c5ceb865",
   "metadata": {},
   "outputs": [
    {
     "name": "stdout",
     "output_type": "stream",
     "text": [
      "Enter a value: 4\n",
      "The sum is 9\n"
     ]
    }
   ],
   "source": [
    "### Taking input from the user\n",
    "num = int(input(\"Enter a value: \"))\n",
    "\n",
    "add = num + 5\n",
    "\n",
    "# Output\n",
    "print(\"The sum is %x\" %add)\n"
   ]
  },
  {
   "cell_type": "code",
   "execution_count": null,
   "id": "8c88a315",
   "metadata": {},
   "outputs": [],
   "source": []
  }
 ],
 "metadata": {
  "kernelspec": {
   "display_name": "Python 3 (ipykernel)",
   "language": "python",
   "name": "python3"
  },
  "language_info": {
   "codemirror_mode": {
    "name": "ipython",
    "version": 3
   },
   "file_extension": ".py",
   "mimetype": "text/x-python",
   "name": "python",
   "nbconvert_exporter": "python",
   "pygments_lexer": "ipython3",
   "version": "3.11.4"
  }
 },
 "nbformat": 4,
 "nbformat_minor": 5
}
