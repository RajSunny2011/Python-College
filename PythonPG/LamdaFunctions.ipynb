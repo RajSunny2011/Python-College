{
 "cells": [
  {
   "cell_type": "markdown",
   "id": "f4c0fe6f",
   "metadata": {},
   "source": [
    "# Python Lambda Functions\n",
    "\n",
    "Today, we'll study anonymous functions, commonly called lambda functions. We'll understand what they are, how to execute them, and their syntax.\n",
    "\n",
    "__What are Lambda Functions in Python?__\n",
    "\n",
    "Lambda Functions in Python are anonymous functions, implying they don't have a name. The def keyword is needed to create a typical function in Python, as we already know. We can also use the lambda keyword in Python to define an unnamed function.\n",
    "\n",
    "__Syntax of Python Lambda Function__\n",
    "\n",
    "lambda arguments: expression   \n",
    "\n",
    "This function accepts any count of inputs but only evaluates and returns one expression.\n",
    "\n",
    "Lambda functions can be used whenever function arguments are necessary. In addition to other forms of formulations in functions, it has a variety of applications in certain coding domains. It's important to remember that according to syntax, lambda functions are limited to a single statement.\n",
    "\n",
    "Example of Lambda Function in Python\n",
    "\n",
    "An example of a lambda function that adds 4 to the input number is shown below."
   ]
  },
  {
   "cell_type": "code",
   "execution_count": 1,
   "id": "5dcb7587",
   "metadata": {},
   "outputs": [
    {
     "name": "stdout",
     "output_type": "stream",
     "text": [
      "12\n"
     ]
    }
   ],
   "source": [
    "# Code to demonstrate how we can use a lambda function  \n",
    "add = lambda num: num + 4  \n",
    "print( add(8) )  "
   ]
  },
  {
   "cell_type": "markdown",
   "id": "c750e5a8",
   "metadata": {},
   "source": [
    "The lambda function is \"lambda num: num+4\" in the given programme. The parameter is num, and the computed and returned equation is num * 4.\n",
    "\n",
    "There is no label for this function. It generates a function object associated with the \"add\" identifier. We can now refer to it as a standard function. The lambda statement, \"lambda num: num+4\", is nearly the same as:\n",
    "\n",
    "Code"
   ]
  },
  {
   "cell_type": "code",
   "execution_count": 2,
   "id": "0df9eeb7",
   "metadata": {},
   "outputs": [
    {
     "name": "stdout",
     "output_type": "stream",
     "text": [
      "10\n"
     ]
    }
   ],
   "source": [
    "def add( num ):  \n",
    "   return num + 4  \n",
    "print( add(6) )  "
   ]
  },
  {
   "cell_type": "markdown",
   "id": "4a5b1e79",
   "metadata": {},
   "source": [
    "__What's the Distinction Between Lambda and Def Functions?__\n",
    "\n",
    "Let's glance at this instance to see how a conventional def defined function differs from a function defined using the lambda keyword. This program calculates the reciprocal of a given number:"
   ]
  },
  {
   "cell_type": "code",
   "execution_count": 3,
   "id": "6efb9ac0",
   "metadata": {},
   "outputs": [
    {
     "name": "stdout",
     "output_type": "stream",
     "text": [
      "Def keyword:  0.16666666666666666\n",
      "Lambda keyword:  0.16666666666666666\n"
     ]
    }
   ],
   "source": [
    "# Python code to show the reciprocal of the given number to highlight the difference between def() and lambda().  \n",
    "def reciprocal( num ):  \n",
    "    return 1 / num  \n",
    "   \n",
    "lambda_reciprocal = lambda num: 1 / num  \n",
    "   \n",
    "# using the function defined by def keyword  \n",
    "print( \"Def keyword: \", reciprocal(6) )  \n",
    "   \n",
    "# using the function defined by lambda keyword  \n",
    "print( \"Lambda keyword: \", lambda_reciprocal(6) )  "
   ]
  },
  {
   "cell_type": "markdown",
   "id": "dac6ba91",
   "metadata": {},
   "source": [
    "The reciprocal() and lambda_reciprocal() functions act similarly and as expected in the preceding scenario. Let's take a closer look at the sample above:\n",
    "\n",
    "Both of these yield the reciprocal of a given number without employing Lambda. However, we wanted to declare a function with the name reciprocal and send a number to it while executing def. We were also required to use the return keyword to provide the output from wherever the function was invoked after being executed.\n",
    "\n",
    "Using Lambda: Instead of a \"return\" statement, Lambda definitions always include a statement given at output. The beauty of lambda functions is their convenience. We need not allocate a lambda expression to a variable because we can put it at any place a function is requested.\n",
    "\n",
    "__Using Lambda Function with filter()__\n",
    "\n",
    "The filter() method accepts two arguments in Python: a function and an iterable such as a list.\n",
    "\n",
    "The function is called for every item of the list, and a new iterable or list is returned that holds just those elements that returned True when supplied to the function.\n",
    "\n",
    "Here's a simple illustration of using the filter() method to return only odd numbers from a list."
   ]
  },
  {
   "cell_type": "code",
   "execution_count": 4,
   "id": "758f4dae",
   "metadata": {},
   "outputs": [
    {
     "name": "stdout",
     "output_type": "stream",
     "text": [
      "[55, 75, 13, 63]\n"
     ]
    }
   ],
   "source": [
    "# Code to filter odd numbers from a given list  \n",
    "list_ = [34, 12, 64, 55, 75, 13, 63]  \n",
    "  \n",
    "odd_list = list(filter( lambda num: (num % 2 != 0) , list_ ))  \n",
    "  \n",
    "print(odd_list)  "
   ]
  },
  {
   "cell_type": "markdown",
   "id": "1d0e7ecd",
   "metadata": {},
   "source": [
    "__Using Lambda Function with map()__\n",
    "\n",
    "A method and a list are passed to Python's map() function.\n",
    "\n",
    "The function is executed for all of the elements within the list, and a new list is produced with elements generated by the given function for every item.\n",
    "\n",
    "The map() method is used to square all the entries in a list in this example."
   ]
  },
  {
   "cell_type": "code",
   "execution_count": 5,
   "id": "de67c0ae",
   "metadata": {},
   "outputs": [
    {
     "name": "stdout",
     "output_type": "stream",
     "text": [
      "[4, 16, 25, 1, 9, 49, 64, 81, 100]\n"
     ]
    }
   ],
   "source": [
    "#Code to calculate the square of each number of a list using the map() function  \n",
    "  \n",
    "numbers_list = [2, 4, 5, 1, 3, 7, 8, 9, 10]  \n",
    "  \n",
    "squared_list = list(map( lambda num: num ** 2 , numbers_list ))  \n",
    "  \n",
    "print( squared_list )  "
   ]
  },
  {
   "cell_type": "code",
   "execution_count": null,
   "id": "6e6a1de9",
   "metadata": {},
   "outputs": [],
   "source": []
  },
  {
   "cell_type": "markdown",
   "id": "7f865a6d",
   "metadata": {},
   "source": [
    "__Using Lambda Function with List Comprehension__\n",
    "\n",
    "We'll apply the lambda function combined with list comprehension and lambda keyword with a for loop in this instance. We'll attempt to print the square of numbers in the range 0 to 11."
   ]
  },
  {
   "cell_type": "code",
   "execution_count": 6,
   "id": "91a3bcf4",
   "metadata": {},
   "outputs": [
    {
     "name": "stdout",
     "output_type": "stream",
     "text": [
      "0 1 4 9 16 25 36 49 64 81 100 "
     ]
    }
   ],
   "source": [
    "#Code to calculate square of each number of list using list comprehension  \n",
    "squares = [lambda num = num: num ** 2 for num in range(0, 11)]  \n",
    "   \n",
    "for square in squares:  \n",
    "    print( square(), end = \" \")  "
   ]
  },
  {
   "cell_type": "markdown",
   "id": "f25faa13",
   "metadata": {},
   "source": [
    "__Using Lambda Function with if-else__\n",
    "\n",
    "We will use the lambda function with the if-else block."
   ]
  },
  {
   "cell_type": "code",
   "execution_count": 3,
   "id": "aaa88e5b",
   "metadata": {},
   "outputs": [
    {
     "name": "stdout",
     "output_type": "stream",
     "text": [
      "35\n"
     ]
    }
   ],
   "source": [
    "# Code to use lambda function with if-else  \n",
    "Minimum = lambda x, y : x if (x < y) else y  \n",
    "   \n",
    "print(Minimum( 74, 35))  "
   ]
  },
  {
   "cell_type": "markdown",
   "id": "5322d110",
   "metadata": {},
   "source": [
    "__Using Lambda with Multiple Statements__\n",
    "\n",
    "Multiple expressions are not allowed in lambda functions, but we can construct 2 lambda functions or more and afterward call the second lambda expression as an argument to the first. Let's use lambda to discover the third maximum element."
   ]
  },
  {
   "cell_type": "code",
   "execution_count": 8,
   "id": "cc275e25",
   "metadata": {},
   "outputs": [
    {
     "name": "stdout",
     "output_type": "stream",
     "text": [
      "[6, 54, 5]\n"
     ]
    }
   ],
   "source": [
    "# Code to print the third-largest number of the given list using the lambda function  \n",
    "  \n",
    "my_List = [ [3, 5, 8, 6], [23, 54, 12, 87], [1, 2, 4, 12, 5] ]  \n",
    "  \n",
    "# sorting every sublist of the above list  \n",
    "sort_List = lambda num : ( sorted(n) for n in num )  \n",
    "  \n",
    "# Getting the third largest number of the sublist  \n",
    "third_Largest = lambda num, func : [ l[ len(l) - 2] for l in func(num)]  \n",
    "result = third_Largest( my_List, sort_List)  \n",
    "  \n",
    "print( result )  "
   ]
  },
  {
   "cell_type": "code",
   "execution_count": null,
   "id": "5bc0ae2a",
   "metadata": {},
   "outputs": [],
   "source": []
  }
 ],
 "metadata": {
  "kernelspec": {
   "display_name": "Python 3 (ipykernel)",
   "language": "python",
   "name": "python3"
  },
  "language_info": {
   "codemirror_mode": {
    "name": "ipython",
    "version": 3
   },
   "file_extension": ".py",
   "mimetype": "text/x-python",
   "name": "python",
   "nbconvert_exporter": "python",
   "pygments_lexer": "ipython3",
   "version": "3.9.7"
  }
 },
 "nbformat": 4,
 "nbformat_minor": 5
}
