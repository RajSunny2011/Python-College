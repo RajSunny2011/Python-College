{
 "cells": [
  {
   "cell_type": "markdown",
   "id": "9b823998",
   "metadata": {},
   "source": [
    "# Conditional Expressions in Python\n",
    "\n",
    "Python's conditional statements carry out various calculations or operations according to whether a particular Boolean condition is evaluated as true or false. In Python, IF statements deal with conditional statements.\n",
    "\n",
    "We'll learn how to use conditional statements in Python in this tutorial.\n",
    "\n",
    "__What is Python If Statement?__\n",
    "\n",
    "To make decisions, utilize the if statement in Python. It has a body of instructions that only executes whenever the if statement's condition is met. The additional else statement, which includes some instructions for the else statement, runs if the if condition is false.\n",
    "\n",
    "Python's if-else statement is used when you wish to satisfy one statement while the other is false.\n",
    "\n",
    "__Python Syntax of the if Statement:__\n",
    "\n",
    "if <conditional expression>  \n",
    " Statement  \n",
    "else  \n",
    " Statement  \n",
    "    \n"
   ]
  },
  {
   "cell_type": "code",
   "execution_count": 2,
   "id": "672573a7",
   "metadata": {},
   "outputs": [
    {
     "name": "stdout",
     "output_type": "stream",
     "text": [
      "a is greater than b\n"
     ]
    }
   ],
   "source": [
    "# Python program to execute if statement  \n",
    "  \n",
    "a, b = 9, 5  \n",
    "  \n",
    "# Initializing the if condition  \n",
    "if a > b:\n",
    "    \n",
    "    code = \"a is greater than b\"  \n",
    "    print(code)  "
   ]
  },
  {
   "cell_type": "markdown",
   "id": "874689d8",
   "metadata": {},
   "source": [
    "__How to Use the else Condition?__\n",
    "\n",
    "The \"else condition\" is usually used when judging one statement based on another. If the condition mentioned in the if code block is wrong, then the interpreter will execute the else code block."
   ]
  },
  {
   "cell_type": "code",
   "execution_count": 4,
   "id": "1d6a21cf",
   "metadata": {},
   "outputs": [
    {
     "name": "stdout",
     "output_type": "stream",
     "text": [
      "a is greater than b\n"
     ]
    }
   ],
   "source": [
    "# Python program to execute if-else statement  \n",
    "  \n",
    "a, b = 7, 5  \n",
    "  \n",
    "# Initializing the if-else condition  \n",
    "if a < b:\n",
    "    \n",
    "    code = \"a is less than b\"  \n",
    "    print(code)  \n",
    "else:\n",
    "    print(\"a is greater than b\")  "
   ]
  },
  {
   "cell_type": "markdown",
   "id": "b4bdcf91",
   "metadata": {},
   "source": [
    "__When the else Statement does not Work__\n",
    "\n",
    "There could be a lot of situations where your \"otherwise condition\" doesn't produce the desired outcome. Due to a flaw in the program's logic, it will print the incorrect result. This typically occurs when there are more than two statements or conditions in a program.\n",
    "\n",
    "__An illustration will make this notion easier for you to grasp.__\n",
    "\n",
    "\n",
    "Since both variables, in this case, are identical (9, 9), the program's output that \"x is greater than y\" is FALSE. This is because it evaluates the first condition, or the if expression in Python, then prints the next condition (the else statement) by default if the first condition fails. The following step will examine how to fix this mistake."
   ]
  },
  {
   "cell_type": "code",
   "execution_count": 3,
   "id": "282be501",
   "metadata": {
    "scrolled": true
   },
   "outputs": [
    {
     "name": "stdout",
     "output_type": "stream",
     "text": [
      "a is greater than b\n"
     ]
    }
   ],
   "source": [
    "# Python program when else condition does not work  \n",
    "  \n",
    "a, b = 9, 9  \n",
    "  \n",
    "# Initializing the if-else condition  \n",
    "if a < b:  \n",
    "    code = \"a is less than b\"  \n",
    "else:  \n",
    "    code = \"a is greater than b\"  \n",
    "  \n",
    "print(code)  "
   ]
  },
  {
   "cell_type": "markdown",
   "id": "f96adc77",
   "metadata": {},
   "source": [
    "__How to use the elif Condition?__\n",
    "\n",
    "We can employ the \"elif\" clause to fix the issue caused by the \"else condition\" made earlier. You can instruct the software to print the third condition or alternative when the first two conditions fail or are erroneous by using the \"elif\" condition."
   ]
  },
  {
   "cell_type": "code",
   "execution_count": 4,
   "id": "f59ad63b",
   "metadata": {},
   "outputs": [
    {
     "name": "stdout",
     "output_type": "stream",
     "text": [
      "a is equal to b\n"
     ]
    }
   ],
   "source": [
    "# Python program to show how to use elif condition  \n",
    "  \n",
    "a, b = 9, 9  \n",
    "  \n",
    "# Initializing the if-else condition  \n",
    "if a < b:  \n",
    "    code = \"a is less than b\"  \n",
    "elif a == b:  \n",
    "    code = \"a is equal to b\"  \n",
    "else:\n",
    "\n",
    "    code = \"a is greater than b\"  \n",
    "  \n",
    "print(code)  "
   ]
  },
  {
   "cell_type": "markdown",
   "id": "bbb8f1c8",
   "metadata": {},
   "source": [
    "__Python Nested if Statement__\n",
    "\n",
    "The following example demonstrates nested if Statement Python"
   ]
  },
  {
   "cell_type": "code",
   "execution_count": 4,
   "id": "c810c7e2",
   "metadata": {},
   "outputs": [
    {
     "name": "stdout",
     "output_type": "stream",
     "text": [
      "Zero\n"
     ]
    }
   ],
   "source": [
    "# Python program to demonstrate\n",
    "# nested if statement\n",
    "\n",
    "\n",
    "num = 0\n",
    "if num >= 0:\n",
    "\n",
    "\tif num == 0:\n",
    "\t\tprint(\"Zero\")\n",
    "\telse:\n",
    "\t\tprint(\"Positive number\")\n",
    "else:\n",
    "\tprint(\"Negative number\")\n"
   ]
  },
  {
   "cell_type": "code",
   "execution_count": 5,
   "id": "59562feb",
   "metadata": {},
   "outputs": [
    {
     "name": "stdout",
     "output_type": "stream",
     "text": [
      "even\n"
     ]
    }
   ],
   "source": [
    "num = 22\n",
    "if num % 2 == 0:\n",
    "    print(\"even\")\n",
    "else:\n",
    "   print(\"odd\")"
   ]
  },
  {
   "cell_type": "code",
   "execution_count": null,
   "id": "7e54913d",
   "metadata": {},
   "outputs": [],
   "source": []
  }
 ],
 "metadata": {
  "kernelspec": {
   "display_name": "Python 3 (ipykernel)",
   "language": "python",
   "name": "python3"
  },
  "language_info": {
   "codemirror_mode": {
    "name": "ipython",
    "version": 3
   },
   "file_extension": ".py",
   "mimetype": "text/x-python",
   "name": "python",
   "nbconvert_exporter": "python",
   "pygments_lexer": "ipython3",
   "version": "3.11.4"
  }
 },
 "nbformat": 4,
 "nbformat_minor": 5
}
