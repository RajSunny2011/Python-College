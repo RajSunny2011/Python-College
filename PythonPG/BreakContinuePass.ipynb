{
 "cells": [
  {
   "cell_type": "markdown",
   "id": "131a1d46",
   "metadata": {},
   "source": [
    "# Python break statement\n",
    "\n",
    "The break is a keyword in python which is used to bring the program control out of the loop. The break statement breaks the loops one by one, i.e., in the case of nested loops, it breaks the inner loop first and then proceeds to outer loops. In other words, we can say that break is used to abort the current execution of the program and the control goes to the next line after the loop.\n",
    "\n",
    "The break is commonly used in the cases where we need to break the loop for a given condition.\n",
    "\n",
    "The syntax of the break is given below.\n",
    "\n",
    "#loop statements  \n",
    "break;  "
   ]
  },
  {
   "cell_type": "code",
   "execution_count": 4,
   "id": "b15d7221",
   "metadata": {},
   "outputs": [
    {
     "name": "stdout",
     "output_type": "stream",
     "text": [
      "item matched\n",
      "2\n"
     ]
    }
   ],
   "source": [
    "list =[1,2,3,4]  \n",
    "count = 1;  \n",
    "for i in list:  \n",
    "    if i == 4:  \n",
    "        print(\"item matched\")  \n",
    "        count = count + 1;  \n",
    "        break  \n",
    "print(count);  "
   ]
  },
  {
   "cell_type": "code",
   "execution_count": 1,
   "id": "d4b0619f",
   "metadata": {},
   "outputs": [
    {
     "name": "stdout",
     "output_type": "stream",
     "text": [
      "Y\n",
      "e\n",
      "l\n",
      "l\n"
     ]
    }
   ],
   "source": [
    "str = \"Yellow\"  \n",
    "for i in str:  \n",
    "    if i == 'o':  \n",
    "        break  \n",
    "    print(i);  "
   ]
  },
  {
   "cell_type": "code",
   "execution_count": 3,
   "id": "19a88e0e",
   "metadata": {},
   "outputs": [
    {
     "name": "stdout",
     "output_type": "stream",
     "text": [
      "0  1  2  3  4  5  6  7  8  9  came out of while loop\n"
     ]
    }
   ],
   "source": [
    "#break statement with while loop\n",
    "\n",
    "i = 0;  \n",
    "while 1:  \n",
    "    print(i,\" \",end=\"\"),  \n",
    "    i=i+1;  \n",
    "    if i == 10:  \n",
    "        break;  \n",
    "print(\"came out of while loop\");  "
   ]
  },
  {
   "cell_type": "code",
   "execution_count": null,
   "id": "c7ca9a85",
   "metadata": {},
   "outputs": [
    {
     "name": "stdout",
     "output_type": "stream",
     "text": [
      "2 X 1 = 2\n",
      "\n",
      "2 X 2 = 4\n",
      "\n",
      "2 X 3 = 6\n",
      "\n",
      "2 X 4 = 8\n",
      "\n",
      "2 X 5 = 10\n",
      "\n",
      "2 X 6 = 12\n",
      "\n",
      "2 X 7 = 14\n",
      "\n",
      "2 X 8 = 16\n",
      "\n",
      "2 X 9 = 18\n",
      "\n",
      "2 X 10 = 20\n",
      "\n",
      "Do you want to continue printing the table, press 0 for no?20\n",
      "3 X 1 = 3\n",
      "\n",
      "3 X 2 = 6\n",
      "\n",
      "3 X 3 = 9\n",
      "\n",
      "3 X 4 = 12\n",
      "\n",
      "3 X 5 = 15\n",
      "\n",
      "3 X 6 = 18\n",
      "\n",
      "3 X 7 = 21\n",
      "\n",
      "3 X 8 = 24\n",
      "\n",
      "3 X 9 = 27\n",
      "\n",
      "3 X 10 = 30\n",
      "\n",
      "Do you want to continue printing the table, press 0 for no?90\n",
      "4 X 1 = 4\n",
      "\n",
      "4 X 2 = 8\n",
      "\n",
      "4 X 3 = 12\n",
      "\n",
      "4 X 4 = 16\n",
      "\n",
      "4 X 5 = 20\n",
      "\n",
      "4 X 6 = 24\n",
      "\n",
      "4 X 7 = 28\n",
      "\n",
      "4 X 8 = 32\n",
      "\n",
      "4 X 9 = 36\n",
      "\n",
      "4 X 10 = 40\n",
      "\n",
      "Do you want to continue printing the table, press 0 for no?90\n",
      "5 X 1 = 5\n",
      "\n",
      "5 X 2 = 10\n",
      "\n",
      "5 X 3 = 15\n",
      "\n",
      "5 X 4 = 20\n",
      "\n",
      "5 X 5 = 25\n",
      "\n",
      "5 X 6 = 30\n",
      "\n",
      "5 X 7 = 35\n",
      "\n",
      "5 X 8 = 40\n",
      "\n",
      "5 X 9 = 45\n",
      "\n",
      "5 X 10 = 50\n",
      "\n"
     ]
    }
   ],
   "source": [
    "n=2  \n",
    "while 1:  \n",
    "    i=1;  \n",
    "    while i<=10:  \n",
    "        print(\"%d X %d = %d\\n\"%(n,i,n*i));  \n",
    "        i = i+1;  \n",
    "    choice = int(input(\"Do you want to continue printing the table, press 0 for no?\"))  \n",
    "    if choice == 0:  \n",
    "        break;      \n",
    "    n=n+1  "
   ]
  },
  {
   "cell_type": "markdown",
   "id": "f158cd9d",
   "metadata": {},
   "source": [
    "# Python continue Statement\n",
    "\n",
    "In this tutorial, we'll look at how to use Python continue keyword to skip the remaining statements of the current loop and go to the next iteration. Also, the difference between continue and pass keywords.\n",
    "\n",
    "__Application of the Continue Statement__\n",
    "\n",
    "In Python, loops repeat processes on their own in an efficient way. However, there might be occasions when we wish to leave the current loop entirely, skip iteration, or dismiss the condition controlling the loop. We use Loop control statements in such cases. The continue keyword is a loop control statement that allows us to change the loop's control.\n",
    "\n",
    "__The continue Keyword__\n",
    "\n",
    "In Python, the continue keyword return control of the iteration to the beginning of the Python for loop or Python while loop. All remaining lines in the prevailing iteration of the loop are skipped by the continue keyword, which returns execution to the beginning of the next iteration of the loop.\n",
    "\n",
    "__Both Python while and Python for loops can leverage the continue statements.__\n",
    "\n",
    "\n",
    "Example of Python Continue Statements in For Loop\n",
    "\n",
    "Assume the following scenario: we want to develop a program that returns numbers from 10 to 20 but not 15. It is mentioned that we must perform this with a 'for' loop. Here's when the continue keyword comes into play. We will execute a loop from 10 to 20 and test the condition that the iterator is equal to 15. If it equals 15, we'll employ the continue statement to skip to the following iteration displaying any output; otherwise, the loop will print the result.\n",
    "\n",
    "The following code is an example of the above scenario:\n",
    "\n"
   ]
  },
  {
   "cell_type": "code",
   "execution_count": 6,
   "id": "a65ade0a",
   "metadata": {},
   "outputs": [
    {
     "name": "stdout",
     "output_type": "stream",
     "text": [
      "10\n",
      "11\n",
      "12\n",
      "13\n",
      "14\n",
      "16\n",
      "17\n",
      "18\n",
      "19\n",
      "20\n"
     ]
    }
   ],
   "source": [
    "# Python code to show example of continue statement  \n",
    "   \n",
    "# looping from 10 to 20  \n",
    "for iterator in range(10, 21):  \n",
    "   \n",
    "    # If iterator is equals to 15, loop will continue to the next iteration  \n",
    "    if iterator == 15:  \n",
    "        continue  \n",
    "    # otherwise printing the value of iterator  \n",
    "    print( iterator )  "
   ]
  },
  {
   "cell_type": "markdown",
   "id": "acf0c929",
   "metadata": {},
   "source": [
    "Now will repeat the above code, but this time with a string. We will take a string \"Javatpoint\" and print each letter of the string except \"a\". This time we will use Python while loop to do so. Until the value of the iterator is less than the string's length, the while loop will keep executing."
   ]
  },
  {
   "cell_type": "code",
   "execution_count": 5,
   "id": "54460675",
   "metadata": {},
   "outputs": [
    {
     "name": "stdout",
     "output_type": "stream",
     "text": [
      "J\n",
      "v\n",
      "T\n",
      "p\n",
      "o\n",
      "i\n",
      "n\n",
      "t\n"
     ]
    }
   ],
   "source": [
    "# Creating a string\n",
    "string = \"JavaTpoint\"\n",
    "\n",
    "# initializing an iterator\n",
    "iterator = 0\n",
    "\n",
    "# starting a while loop\n",
    "while iterator < len(string):\n",
    "    # if loop is at letter 'a', it will skip the remaining code and go to the next iteration\n",
    "    if string[iterator] == 'a':\n",
    "        iterator += 1\n",
    "        continue\n",
    "    # otherwise, it will print the letter\n",
    "    print(string[iterator])\n",
    "    iterator += 1"
   ]
  },
  {
   "cell_type": "markdown",
   "id": "d83a6cac",
   "metadata": {},
   "source": [
    "# Python continue Statement\n",
    "\n",
    "In this tutorial, we'll look at how to use Python continue keyword to skip the remaining statements of the current loop and go to the next iteration. Also, the difference between continue and pass keywords.\n",
    "\n",
    "__Application of the Continue Statement__\n",
    "\n",
    "In Python, loops repeat processes on their own in an efficient way. However, there might be occasions when we wish to leave the current loop entirely, skip iteration, or dismiss the condition controlling the loop. We use Loop control statements in such cases. The continue keyword is a loop control statement that allows us to change the loop's control.\n",
    "\n",
    "__The continue Keyword__\n",
    "\n",
    "In Python, the continue keyword return control of the iteration to the beginning of the Python for loop or Python while loop. All remaining lines in the prevailing iteration of the loop are skipped by the continue keyword, which returns execution to the beginning of the next iteration of the loop.\n",
    "\n",
    "Both Python while and Python for loops can leverage the continue statements."
   ]
  },
  {
   "cell_type": "markdown",
   "id": "aa31e92a",
   "metadata": {},
   "source": [
    "__Example of Python Continue Statements in For Loop__\n",
    "\n",
    "Assume the following scenario: we want to develop a program that returns numbers from 10 to 20 but not 15. It is mentioned that we must perform this with a 'for' loop. Here's when the continue keyword comes into play. We will execute a loop from 10 to 20 and test the condition that the iterator is equal to 15. If it equals 15, we'll employ the continue statement to skip to the following iteration displaying any output; otherwise, the loop will print the result.\n",
    "\n",
    "The following code is an example of the above scenario:"
   ]
  },
  {
   "cell_type": "code",
   "execution_count": null,
   "id": "60684b15",
   "metadata": {},
   "outputs": [],
   "source": [
    "# Python code to show example of continue statement  \n",
    "   \n",
    "# looping from 10 to 20  \n",
    "for iterator in range(10, 21):  \n",
    "   \n",
    "    # If iterator is equals to 15, loop will continue to the next iteration  \n",
    "    if iterator == 15:  \n",
    "        continue  \n",
    "    # otherwise printing the value of iterator  \n",
    "    print( iterator )  "
   ]
  },
  {
   "cell_type": "markdown",
   "id": "25ed5307",
   "metadata": {},
   "source": [
    "Now will repeat the above code, but this time with a string. We will take a string \"Javatpoint\" and print each letter of the string except \"a\". This time we will use Python while loop to do so. Until the value of the iterator is less than the string's length, the while loop will keep executing."
   ]
  },
  {
   "cell_type": "code",
   "execution_count": null,
   "id": "e9782441",
   "metadata": {},
   "outputs": [],
   "source": [
    "# Creating a string  \n",
    "string = \"JavaTpoint\"  \n",
    "# initializing an iterator  \n",
    "iterator = 0  \n",
    "   \n",
    "# starting a while loop                   \n",
    "while iterator < len(string):  \n",
    "    # if loop is at letter a it will skip the remaining code and go to next iteration  \n",
    "    if string[iterator] == 'a':    \n",
    "        continue    \n",
    "    # otherwise it will print the letter  \n",
    "    print(string[ iterator ])  \n",
    "    iterator += 1  "
   ]
  },
  {
   "cell_type": "markdown",
   "id": "2e32d35b",
   "metadata": {},
   "source": [
    "# Python Pass Statement\n",
    "\n",
    "We will discover more about pass statements in this tutorial. It is interpreted as a placeholder for the future execution of functions, classes, loops, etc.\n",
    "\n",
    "__What is Pass Statement in Python?__\n",
    "\n",
    "The null statement is another name for the pass statement. A Comment is not ignored by the Python interpreter, whereas a pass statement is not. Hence, they two are different Python keywords.\n",
    "\n",
    "We can use the pass statement as a placeholder when unsure what code to provide. So, we only have to place the pass on that line. Pass may be used when we don't wish any code to be executed. We can simply insert a pass in places where empty code is prohibited, such as loops, functions, class definitions, or if-else statements."
   ]
  },
  {
   "cell_type": "markdown",
   "id": "05cbf063",
   "metadata": {},
   "source": [
    "Syntax of the Pass Keyword\n",
    "\n",
    "Keyword:  \n",
    "    pass  "
   ]
  },
  {
   "cell_type": "markdown",
   "id": "4c05b616",
   "metadata": {},
   "source": [
    "Typically, we utilise it as a reference for the future.\n",
    "\n",
    "Let's say we have a loop or an if-else statement that isn't to be filled now but that we wish to in the future. The pass keyword cannot have an empty body as it will be syntactically wrong. An error would be displayed by the Python interpreter suggesting to fill the space. Therefore, we create a code block that performs nothing using the pass statement.\n",
    "\n",
    "Example of the Pass Statement"
   ]
  },
  {
   "cell_type": "code",
   "execution_count": null,
   "id": "f86a7390",
   "metadata": {},
   "outputs": [],
   "source": [
    "# Python program to show how to use a pass statement in a for loop  \n",
    "'''''pass acts as a placeholder. We can fill this place later on'''  \n",
    "sequence = {\"Python\", \"Pass\", \"Statement\", \"Placeholder\"}  \n",
    "for value in sequence:  \n",
    "    if value == \"Pass\":  \n",
    "        pass # leaving an empty if block using the pass keyword  \n",
    "    else:  \n",
    "        print(\"Not reached pass keyword: \", value) "
   ]
  },
  {
   "cell_type": "markdown",
   "id": "5bb12fc5",
   "metadata": {},
   "source": [
    "The same thing is also possible to create an empty function or a class.\n",
    "\n"
   ]
  },
  {
   "cell_type": "code",
   "execution_count": null,
   "id": "03b2e239",
   "metadata": {},
   "outputs": [],
   "source": [
    "# Python program to show how to create an empty function and an empty class  \n",
    "  \n",
    "# Empty function:  \n",
    "def empty():  \n",
    "    pass  \n",
    "  \n",
    "# Empty class  \n",
    "class Empty:  \n",
    "    pass  "
   ]
  },
  {
   "cell_type": "code",
   "execution_count": null,
   "id": "4c822a31",
   "metadata": {},
   "outputs": [],
   "source": []
  }
 ],
 "metadata": {
  "kernelspec": {
   "display_name": "Python 3 (ipykernel)",
   "language": "python",
   "name": "python3"
  },
  "language_info": {
   "codemirror_mode": {
    "name": "ipython",
    "version": 3
   },
   "file_extension": ".py",
   "mimetype": "text/x-python",
   "name": "python",
   "nbconvert_exporter": "python",
   "pygments_lexer": "ipython3",
   "version": "3.11.4"
  }
 },
 "nbformat": 4,
 "nbformat_minor": 5
}
