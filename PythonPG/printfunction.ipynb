{
 "cells": [
  {
   "cell_type": "markdown",
   "id": "b6419fad",
   "metadata": {},
   "source": [
    "# Python print() function\n",
    "\n",
    "The python print() function as the name suggests is used to print a python object(s) in Python as standard output.\n",
    "\n",
    "__Syntax:__ print(object(s), sep, end, file, flush)\n",
    "\n",
    "__Parameters:__\n",
    "\n",
    "__Object(s):__ It can be any python object(s) like string, list, tuple, etc. But before printing all objects get converted into strings.\n",
    "\n",
    "__sep:__ It is an optional parameter used to define the separation among different objects to be printed. By default an empty string(“”) is used as a separator.\n",
    "\n",
    "__end:__ It is an optional parameter used to set the string that is to be printed at the end. The default value for this is set as line feed(“\\n”).\n",
    "\n",
    "__file:__ It is an optional parameter used when writing on or over a file. By default,, it is set to produce standard output as part of sys.stdout.\n",
    "\n",
    "__flush:__ It is an optional boolean parameter to set either a flushed or buffered output. If set True, it takes flushed else it takes buffered. By default, it is set to False.\n",
    "\n",
    "__Example 1: Printing python objects__"
   ]
  },
  {
   "cell_type": "code",
   "execution_count": 4,
   "id": "1960978f",
   "metadata": {},
   "outputs": [
    {
     "name": "stdout",
     "output_type": "stream",
     "text": [
      "[1, 2, 3] ('A', 'B') hi\n"
     ]
    }
   ],
   "source": [
    "# sample python objects\n",
    "list = [1,2,3]\n",
    "tuple = (\"A\",\"B\")\n",
    "string = \"hi\"\n",
    "\n",
    "# printing the objects\n",
    "print(list,tuple,string)\n"
   ]
  },
  {
   "cell_type": "markdown",
   "id": "4865fe42",
   "metadata": {},
   "source": [
    "__Example 2: Printing objects with a separator__"
   ]
  },
  {
   "cell_type": "code",
   "execution_count": 2,
   "id": "1b40b2ed",
   "metadata": {
    "scrolled": true
   },
   "outputs": [
    {
     "name": "stdout",
     "output_type": "stream",
     "text": [
      "[1, 2, 3] & ('A', 'B') & hi\n"
     ]
    }
   ],
   "source": [
    "# sample python objects\n",
    "list = [1,2,3]\n",
    "tuple = (\"A\",\"B\")\n",
    "string = \"hi\"\n",
    "\n",
    "# printing the objects\n",
    "print(list,tuple,string, sep=(\" & \"))\n"
   ]
  },
  {
   "cell_type": "markdown",
   "id": "f007f68b",
   "metadata": {},
   "source": [
    "__Example 3: Specifying the string to be printed at the end__"
   ]
  },
  {
   "cell_type": "code",
   "execution_count": 2,
   "id": "4693dbb2",
   "metadata": {},
   "outputs": [
    {
     "name": "stdout",
     "output_type": "stream",
     "text": [
      "[1, 2, 3] ('A', 'B') hi%$#@^&"
     ]
    }
   ],
   "source": [
    "# sample python objects\n",
    "list = [1,2,3]\n",
    "tuple = (\"A\",\"B\")\n",
    "string = \"hi\"\n",
    "\n",
    "# printing the objects\n",
    "print(list,tuple,string, end=\"%$#@^&\")\n"
   ]
  },
  {
   "cell_type": "markdown",
   "id": "8093784e",
   "metadata": {},
   "source": [
    "__Example 4: Printing and Reading contents of an external file__\n",
    "\n",
    "For this, we will also be using the Python open() function and then print its contents. We already have the following text file saved in our system with the name hi.txt.\n",
    "\n"
   ]
  },
  {
   "cell_type": "code",
   "execution_count": 8,
   "id": "01aa2bde",
   "metadata": {},
   "outputs": [
    {
     "name": "stdout",
     "output_type": "stream",
     "text": [
      "I am student\n"
     ]
    }
   ],
   "source": [
    "# open and read the file\n",
    "my_file = open(\"hi.txt\",\"r\")\n",
    "\n",
    "# print the contents of the file\n",
    "print(my_file.read())\n"
   ]
  },
  {
   "cell_type": "markdown",
   "id": "269fbd79",
   "metadata": {},
   "source": [
    "__Example 5: Printing to sys.stderr__\n"
   ]
  },
  {
   "cell_type": "code",
   "execution_count": 10,
   "id": "a564c65f",
   "metadata": {},
   "outputs": [
    {
     "name": "stderr",
     "output_type": "stream",
     "text": [
      "my.org Noida my.org\n"
     ]
    }
   ],
   "source": [
    "# Python code for printing to stderr\n",
    "\n",
    "# importing the package\n",
    "# for sys.stderr\n",
    "import sys\n",
    "\n",
    "# variables\n",
    "Company = \"my.org\"\n",
    "Location = \"Noida\"\n",
    "Email = \"my.org\"\n",
    "\n",
    "# print to stderr\n",
    "print(Company, Location, Email, file=sys.stderr)\n"
   ]
  },
  {
   "cell_type": "code",
   "execution_count": null,
   "id": "5ee2a736",
   "metadata": {},
   "outputs": [],
   "source": []
  }
 ],
 "metadata": {
  "kernelspec": {
   "display_name": "Python 3 (ipykernel)",
   "language": "python",
   "name": "python3"
  },
  "language_info": {
   "codemirror_mode": {
    "name": "ipython",
    "version": 3
   },
   "file_extension": ".py",
   "mimetype": "text/x-python",
   "name": "python",
   "nbconvert_exporter": "python",
   "pygments_lexer": "ipython3",
   "version": "3.11.4"
  }
 },
 "nbformat": 4,
 "nbformat_minor": 5
}
