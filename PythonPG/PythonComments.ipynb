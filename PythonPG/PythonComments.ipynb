{
 "cells": [
  {
   "cell_type": "markdown",
   "id": "59193ce2",
   "metadata": {},
   "source": [
    "# Python Comments\n",
    "\n",
    "Comments in Python are the lines in the code that are ignored by the interpreter during the execution of the program. Comments enhance the readability of the code and help the programmers to understand the code very carefully. \n",
    "\n",
    "There are three types of comments in Python:\n",
    "\n",
    "Single line Comments\n",
    "Multiline Comments\n",
    "Docstring Comments\n",
    "\n",
    "__Comments in Python__\n",
    "\n",
    "In the example, it can be seen that comments are ignored by the interpreter during the execution of the program."
   ]
  },
  {
   "cell_type": "code",
   "execution_count": 1,
   "id": "de034abd",
   "metadata": {},
   "outputs": [
    {
     "name": "stdout",
     "output_type": "stream",
     "text": [
      "hi\n"
     ]
    }
   ],
   "source": [
    "# sample comment\n",
    "name = \"hi\"\n",
    "print(name)\n"
   ]
  },
  {
   "cell_type": "markdown",
   "id": "1f60a86e",
   "metadata": {},
   "source": [
    "__Types of Comments in Python__\n",
    "\n",
    "__Single-Line Comments in Python__\n",
    "\n",
    "Python single-line comment starts with the hashtag symbol (#) with no white spaces and lasts till the end of the line. If the comment exceeds one line then put a hashtag on the next line and continue the comment. Python’s single-line comments are proved useful for supplying short explanations for variables, function declarations, and expressions. See the following code snippet demonstrating single line comment:\n",
    "\n",
    "Example: "
   ]
  },
  {
   "cell_type": "code",
   "execution_count": 6,
   "id": "c21f221a",
   "metadata": {},
   "outputs": [
    {
     "name": "stdout",
     "output_type": "stream",
     "text": [
      "Hi\n"
     ]
    }
   ],
   "source": [
    "# Print “Hi !” to console\n",
    "print(\"Hi\")\n"
   ]
  },
  {
   "cell_type": "markdown",
   "id": "eef6f090",
   "metadata": {},
   "source": [
    "__Multi-Line Comments in Python__\n",
    "\n",
    "Python does not provide the option for multiline comments. However, there are different ways through which we can write multiline comments.\n",
    "\n",
    "Multiline comments using multiple hashtags (#)\n",
    "\n",
    "We can multiple hashtags (#) to write multiline comments in Python. Each and every line will be considered as a single-line comment."
   ]
  },
  {
   "cell_type": "code",
   "execution_count": 8,
   "id": "b3730554",
   "metadata": {},
   "outputs": [
    {
     "name": "stdout",
     "output_type": "stream",
     "text": [
      "Multiline comments\n"
     ]
    }
   ],
   "source": [
    "# Python program to demonstrate\n",
    "# multiline comments\n",
    "print(\"Multiline comments\")\n"
   ]
  },
  {
   "cell_type": "markdown",
   "id": "273489df",
   "metadata": {},
   "source": [
    "__String Literals In Python__\n",
    "\n",
    "Python ignores the string literals that are not assigned to a variable so we can use these string literals as a comment. \n",
    "\n",
    "Single-line comments using string literals\n",
    "\n",
    "On executing the above code we can see that there will not be any output so we use the strings with triple quotes(“””) as multiline comments."
   ]
  },
  {
   "cell_type": "code",
   "execution_count": 9,
   "id": "22611033",
   "metadata": {},
   "outputs": [
    {
     "name": "stdout",
     "output_type": "stream",
     "text": [
      "Multiline comments\n"
     ]
    }
   ],
   "source": [
    "\"\"\" Python program to demonstrate\n",
    "multiline comments\"\"\"\n",
    "print(\"Multiline comments\")\n"
   ]
  },
  {
   "cell_type": "markdown",
   "id": "11ed8bad",
   "metadata": {},
   "source": [
    "__Docstring in Python__\n",
    "\n",
    "Python docstring is the string literals with triple quotes that are appeared right after the function. It is used to associate documentation that has been written with Python modules, functions, classes, and methods. It is added right below the functions, modules, or classes to describe what they do. In Python, the docstring is then made available via the __doc__ attribute."
   ]
  },
  {
   "cell_type": "code",
   "execution_count": 5,
   "id": "225079b3",
   "metadata": {},
   "outputs": [
    {
     "name": "stdout",
     "output_type": "stream",
     "text": [
      "Multiplies the value of a and b\n"
     ]
    }
   ],
   "source": [
    "def multiply(a, b):\n",
    "\t\"\"\"Multiplies the value of a and b\"\"\"\n",
    "\treturn a*b\n",
    "\n",
    "\n",
    "# Print the docstring of multiply function\n",
    "print(multiply.__doc__)\n"
   ]
  },
  {
   "cell_type": "markdown",
   "id": "ed9ad7a1",
   "metadata": {},
   "source": [
    "__Advantages of comments in Python__\n",
    "\n",
    "Comments are generally used for the following purposes: \n",
    "\n",
    "Code Readability\n",
    "\n",
    "Explanation of the code or Metadata of the project\n",
    "\n",
    "Prevent execution of code\n",
    "\n",
    "To include resources"
   ]
  },
  {
   "cell_type": "code",
   "execution_count": null,
   "id": "8aef3d41",
   "metadata": {},
   "outputs": [],
   "source": []
  }
 ],
 "metadata": {
  "kernelspec": {
   "display_name": "Python 3 (ipykernel)",
   "language": "python",
   "name": "python3"
  },
  "language_info": {
   "codemirror_mode": {
    "name": "ipython",
    "version": 3
   },
   "file_extension": ".py",
   "mimetype": "text/x-python",
   "name": "python",
   "nbconvert_exporter": "python",
   "pygments_lexer": "ipython3",
   "version": "3.11.4"
  }
 },
 "nbformat": 4,
 "nbformat_minor": 5
}
