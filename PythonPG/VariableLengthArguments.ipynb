{
 "cells": [
  {
   "cell_type": "markdown",
   "id": "56a633a4",
   "metadata": {},
   "source": [
    "# Variable Length Arguments in Python\n",
    "\n",
    "We have tried and learned the different ways of defining and calling a function in our program.\n",
    "\n",
    "In this article, we will discuss what are the variable-length arguments in Python.\n",
    "\n",
    "Here we will cover two types-\n",
    "\n",
    "Non - Keyworded Arguments (*args)\n",
    "\n",
    "Keyworded Arguments (**kwargs)\n",
    "\n",
    "Non - Keyworded Arguments (*args)\n",
    "\n",
    "First let us understand the properties of *args,\n",
    "\n",
    "The * in *args indicates that we can pass variable number of arguments in a function in Python.\n",
    "\n",
    "We can pass any number of arguments during the function call.\n",
    "\n",
    "The program given below illustrates the same,"
   ]
  },
  {
   "cell_type": "code",
   "execution_count": 1,
   "id": "0e03f316",
   "metadata": {},
   "outputs": [
    {
     "name": "stdout",
     "output_type": "stream",
     "text": [
      "Let\n",
      "us\n",
      "study\n",
      "Data Science\n",
      "and\n",
      "Blockchain\n"
     ]
    }
   ],
   "source": [
    "#program to demonstrate *args in python  \n",
    "def my_func(*argp):  \n",
    "    for i in argp:  \n",
    "#printing each element from the list  \n",
    "        print(i)  \n",
    "#passing the parameters in function  \n",
    "my_func(\"Let\",\"us\",\"study\",\"Data Science\",\"and\",\"Blockchain\")  "
   ]
  },
  {
   "cell_type": "markdown",
   "id": "1da0d41b",
   "metadata": {},
   "source": [
    "Explanation-\n",
    "\n",
    "Let's understand what we have done in the above program,\n",
    "\n",
    "In the first step, we have created a function that will take variable arguments as its parameters.\n",
    "\n",
    "After this, we have used a for loop that will take each element or parameter in this case and print it.\n",
    "\n",
    "Finally, we have passed six strings as the parameters in our function.\n",
    "\n",
    "On executing the program, the desired output is displayed.\n",
    "\n",
    "\n",
    "Let's have a look at one more program based on *args."
   ]
  },
  {
   "cell_type": "code",
   "execution_count": 2,
   "id": "8128503a",
   "metadata": {},
   "outputs": [
    {
     "name": "stdout",
     "output_type": "stream",
     "text": [
      "The first parameter is:  Let\n",
      "The second parameter is:  us\n",
      "study\n",
      "Data Science\n",
      "and\n",
      "Blockchain\n"
     ]
    }
   ],
   "source": [
    "#program to demonstrate *args in python  \n",
    "def my_func(par1,par2,*argp):  \n",
    "#displaying the first parameter      \n",
    "    print(\"The first parameter is: \",par1)  \n",
    "#displaying the second parameter  \n",
    "    print(\"The second parameter is: \",par2)  \n",
    "    for i in argp:  \n",
    "#printing each element from the list  \n",
    "        print(i)  \n",
    "#passing the parameters in function  \n",
    "my_func(\"Let\",\"us\",\"study\",\"Data Science\",\"and\",\"Blockchain\")  "
   ]
  },
  {
   "cell_type": "markdown",
   "id": "841741dd",
   "metadata": {},
   "source": [
    "Explanation-\n",
    "\n",
    "It's time to have a glance at the explanation of this program.\n",
    "\n",
    "In the first step, we have created a function that will take two parameters and then rest as variable arguments as its parameters.\n",
    "\n",
    "In the next step, we have defined the function in which we have displayed the values of the first two parameters.\n",
    "\n",
    "After this, we have used a for loop that will take each element or parameter in this case and print it.\n",
    "\n",
    "Finally, we have passed six strings as the parameters in our function.\n",
    "\n",
    "On executing the program, the desired output is displayed.\n",
    "\n",
    "Now let us understand what is a keyworded argument or **kwargs in Python.\n",
    "\n",
    "__Keyworded Arguments (**kwargs)__\n",
    "\n",
    "Here we can pass a keyworded variable-length argument.\n",
    "\n",
    "Some of its characteristics are-\n",
    "\n",
    "The double star indicates that any number of keyworded arguments can be passed in a function.\n",
    "\n",
    "It is analogous to a dictionary where each key is mapped to a value.\n",
    "\n",
    "Consider the program given below,"
   ]
  },
  {
   "cell_type": "code",
   "execution_count": 3,
   "id": "ba637cfa",
   "metadata": {},
   "outputs": [
    {
     "name": "stdout",
     "output_type": "stream",
     "text": [
      "a_key=Let\n",
      "b_key=us\n",
      "c_key=study\n",
      "d_key=Data Science\n",
      "e_key=and\n",
      "f_key=Blockchain\n"
     ]
    }
   ],
   "source": [
    "#program to demonstrate **kwargs in python  \n",
    "def my_func(**kwargs):  \n",
    "    for k,v in kwargs.items():  \n",
    "        print(\"%s=%s\"%(k,v))  \n",
    "#passing the parameters in function  \n",
    "my_func(a_key=\"Let\",b_key=\"us\",c_key=\"study\",d_key=\"Data Science\",e_key=\"and\",f_key=\"Blockchain\") "
   ]
  },
  {
   "cell_type": "markdown",
   "id": "c7eadeb2",
   "metadata": {},
   "source": [
    "Explanation-\n",
    "\n",
    "Let us see what we have done in the above program.\n",
    "\n",
    "In the first step, we have created a function that takes keyworded arguments as its parameters.\n",
    "\n",
    "After this, in the function definition we have specified that a for loop will be used to fetch the key-value pair.\n",
    "\n",
    "Finally, we have passed six key value pairs inside the function.\n",
    "\n",
    "On executing this program, the desired output is displayed.\n",
    "\n",
    "Consider one more program given below based on **kwargs."
   ]
  },
  {
   "cell_type": "code",
   "execution_count": 4,
   "id": "26a0c10b",
   "metadata": {},
   "outputs": [
    {
     "name": "stdout",
     "output_type": "stream",
     "text": [
      "b_key=us\n",
      "c_key=study\n",
      "d_key=Data Science\n",
      "e_key=and\n",
      "f_key=Blockchain\n"
     ]
    }
   ],
   "source": [
    "#program to demonstrate **kwargs in python  \n",
    "def my_func(p1,**kwargs):  \n",
    "    for k,v in kwargs.items():  \n",
    "        print(\"%s=%s\"%(k,v))  \n",
    "#passing the parameters in function  \n",
    "my_func(\"Let\",b_key=\"us\",c_key=\"study\",d_key=\"Data Science\",e_key=\"and\",f_key=\"Blockchain\")  "
   ]
  },
  {
   "cell_type": "markdown",
   "id": "6eeaba83",
   "metadata": {},
   "source": [
    "Explanation-\n",
    "\n",
    "Check out the explanation of this program,\n",
    "\n",
    "In the first step, we have created a function that takes one parameter and rest as keyworded arguments as its parameters.\n",
    "\n",
    "After this, in the function definition, we have specified that a for loop will be used to fetch the key-value pair.\n",
    "\n",
    "Finally, we have passed five key-value pairs inside the function and so it displays only those pairs in the output and doesn't consider the first string.\n",
    "\n",
    "On executing this program, the desired output is displayed.\n",
    "\n",
    "We will conclude this article with a program that illustrates how *args and **kwargs can be used in a single program."
   ]
  },
  {
   "cell_type": "code",
   "execution_count": 5,
   "id": "d90d0d34",
   "metadata": {},
   "outputs": [
    {
     "name": "stdout",
     "output_type": "stream",
     "text": [
      "The value of args is: ('Let', 'us', 'study')\n",
      "The value of kwargs is: {'a_key': 'Data Science', 'b_key': 'and', 'c_key': 'Blockchain'}\n"
     ]
    }
   ],
   "source": [
    "#program to demonstrate **kwargs in python  \n",
    "def my_func(*args,**kwargs):  \n",
    "#displaying the value of args  \n",
    "    print(\"The value of args is:\",args)  \n",
    "#displaying the value of kwargs  \n",
    "    print(\"The value of kwargs is:\",kwargs)  \n",
    "#passing the values in function  \n",
    "my_func(\"Let\",\"us\",\"study\",a_key=\"Data Science\",b_key=\"and\",c_key=\"Blockchain\")  "
   ]
  },
  {
   "cell_type": "markdown",
   "id": "452ae841",
   "metadata": {},
   "source": [
    "Explanation-\n",
    "\n",
    "In the first step, we have created a function that takes *args and **kwargs (non-keyworded and keyworded arguments) as its parameters.\n",
    "\n",
    "After this, we have the function definition where we have displayed the values of both parameters.\n",
    "\n",
    "Finally, we have passed six parameters in the function, from which three are strings and the other three are key-value pairs.\n",
    "\n",
    "On executing this program, the desired output is displayed.\n",
    "\n",
    "__Conclusion__\n",
    "\n",
    "In this article, we learned what are variable-length arguments in Python and how they can be used in our function."
   ]
  },
  {
   "cell_type": "code",
   "execution_count": null,
   "id": "76d3a43a",
   "metadata": {},
   "outputs": [],
   "source": []
  }
 ],
 "metadata": {
  "kernelspec": {
   "display_name": "Python 3 (ipykernel)",
   "language": "python",
   "name": "python3"
  },
  "language_info": {
   "codemirror_mode": {
    "name": "ipython",
    "version": 3
   },
   "file_extension": ".py",
   "mimetype": "text/x-python",
   "name": "python",
   "nbconvert_exporter": "python",
   "pygments_lexer": "ipython3",
   "version": "3.9.7"
  }
 },
 "nbformat": 4,
 "nbformat_minor": 5
}
